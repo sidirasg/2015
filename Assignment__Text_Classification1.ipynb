{
  "nbformat": 4,
  "nbformat_minor": 0,
  "metadata": {
    "colab": {
      "name": "Assignment _Text Classification1 ",
      "version": "0.3.2",
      "provenance": [],
      "collapsed_sections": [],
      "include_colab_link": true
    },
    "kernelspec": {
      "name": "python3",
      "display_name": "Python 3"
    }
  },
  "cells": [
    {
      "cell_type": "markdown",
      "metadata": {
        "id": "view-in-github",
        "colab_type": "text"
      },
      "source": [
        "<a href=\"https://colab.research.google.com/github/sidirasg/2015/blob/master/Assignment__Text_Classification1.ipynb\" target=\"_parent\"><img src=\"https://colab.research.google.com/assets/colab-badge.svg\" alt=\"Open In Colab\"/></a>"
      ]
    },
    {
      "metadata": {
        "id": "d18dojbX7nZY",
        "colab_type": "text"
      },
      "cell_type": "markdown",
      "source": [
        "#  Part 1: Basic operations with word embeddings\n",
        "1.Train a Word2Vec model on the WikiText dataset (Use the wiki.train.tokens corpus in the WikiText-103 word level corpus, which can be found here: https://www.salesforce.com/products/einstein/ai-research/the-wikitext-dependency-language-modeling-dataset/). Find the 5 most similar word pairs from the 10 most frequent words using a Gensim’s function.\n",
        "2. Then, implement a function that retrieves two word vectors using the indexing operator as described in Gensim’s documentation and computes their cosine distance. You may be interested in np.dot() and np.linalg.norm() - see the numpy documentation for details. Compare this to the distance computed by Gensim's functions.\n",
        "3. Visit the NLPL word embedding repository (http://vectors.nlpl.eu/repository/) and download the models with the following identifiers:\n",
        "(40. It was trained on the English CoNLL17 corpus, using Continuous Skip-gram algorithm with vector size 100, and window size 10.\n",
        "(75. It was trained on the English Oil and Gas corpus, using Continuous Bag-of-Words algorithm with vector size 400, and window size 5.\n",
        "(82. It was trained on the English Common Crawl Corpus, using GloVe algorithm with vector size 300, and window size 10.\n",
        "4. Use your trained and above downloaded pre-trained embeddings to compare the lists of top 20 most frequent words in WikiText, CoNLL17, Oil and Gas, and Common Crawl corpora.\n",
        "In Gensim, one can access the model vocabulary sorted by frequency as MODEL.index2word list.\n",
        "If a model is saved in the native Gensim format, one can also access the words frequencies in the training corpus (as integers) with the MODEL.wv.vocab[’YOUR_WORD’].count method.\n",
        "Note also that if a model is saved as a text file in the word2vec format, its lines are as a rule sorted by frequency as well. Thus, top 20 lines of the file correspond to 20 most frequent words in the training corpus\n",
        "5. Are the lists different? What does it tell you about the nature of these corpora?\n",
        "6. Project top 1000 words from the WikiText corpus in 2d space using t-SNE plot. Find an interesting cluster in the plot."
      ]
    },
    {
      "metadata": {
        "id": "sviZOoAa7rM_",
        "colab_type": "code",
        "outputId": "ecf364d1-1a95-470d-f5b6-b4720af668b0",
        "colab": {
          "base_uri": "https://localhost:8080/",
          "height": 34
        }
      },
      "cell_type": "code",
      "source": [
        ""
      ],
      "execution_count": 0,
      "outputs": [
        {
          "output_type": "stream",
          "text": [
            "hello\n"
          ],
          "name": "stdout"
        }
      ]
    },
    {
      "metadata": {
        "id": "fRF2Swtn7sYI",
        "colab_type": "code",
        "colab": {}
      },
      "cell_type": "code",
      "source": [
        ""
      ],
      "execution_count": 0,
      "outputs": []
    },
    {
      "metadata": {
        "id": "s9bS0a45JUG3",
        "colab_type": "code",
        "outputId": "eb5e9098-5167-41b8-aab0-b5ecbec9ffa6",
        "colab": {
          "base_uri": "https://localhost:8080/",
          "height": 122
        }
      },
      "cell_type": "code",
      "source": [
        "from google.colab import drive\n",
        "drive.mount('/content/drive/',force_remount=True)"
      ],
      "execution_count": 0,
      "outputs": [
        {
          "output_type": "stream",
          "text": [
            "Go to this URL in a browser: https://accounts.google.com/o/oauth2/auth?client_id=947318989803-6bn6qk8qdgf4n4g3pfee6491hc0brc4i.apps.googleusercontent.com&redirect_uri=urn%3Aietf%3Awg%3Aoauth%3A2.0%3Aoob&scope=email%20https%3A%2F%2Fwww.googleapis.com%2Fauth%2Fdocs.test%20https%3A%2F%2Fwww.googleapis.com%2Fauth%2Fdrive%20https%3A%2F%2Fwww.googleapis.com%2Fauth%2Fdrive.photos.readonly%20https%3A%2F%2Fwww.googleapis.com%2Fauth%2Fpeopleapi.readonly&response_type=code\n",
            "\n",
            "Enter your authorization code:\n",
            "··········\n",
            "Mounted at /content/drive/\n"
          ],
          "name": "stdout"
        }
      ]
    },
    {
      "metadata": {
        "id": "hSei-1_9nJH5",
        "colab_type": "text"
      },
      "cell_type": "markdown",
      "source": [
        "This link is the original word2vec model\n",
        "https://arxiv.org/pdf/1301.3781.pdf"
      ]
    },
    {
      "metadata": {
        "id": "MF2zwomTCBor",
        "colab_type": "code",
        "colab": {
          "base_uri": "https://localhost:8080/",
          "height": 544
        },
        "outputId": "3d6b42c2-300e-4e29-e26c-1392fafceb5f"
      },
      "cell_type": "code",
      "source": [
        "# Install needed libraries\n",
        "!pip install bokeh\n",
        "!pip install lxml\n",
        "!pip install gensim"
      ],
      "execution_count": 34,
      "outputs": [
        {
          "output_type": "stream",
          "text": [
            "Requirement already satisfied: bokeh in /usr/local/lib/python3.6/dist-packages (1.0.3)\n",
            "Requirement already satisfied: six>=1.5.2 in /usr/local/lib/python3.6/dist-packages (from bokeh) (1.11.0)\n",
            "Requirement already satisfied: PyYAML>=3.10 in /usr/local/lib/python3.6/dist-packages (from bokeh) (3.13)\n",
            "Requirement already satisfied: python-dateutil>=2.1 in /usr/local/lib/python3.6/dist-packages (from bokeh) (2.5.3)\n",
            "Requirement already satisfied: Jinja2>=2.7 in /usr/local/lib/python3.6/dist-packages (from bokeh) (2.10)\n",
            "Requirement already satisfied: numpy>=1.7.1 in /usr/local/lib/python3.6/dist-packages (from bokeh) (1.14.6)\n",
            "Requirement already satisfied: pillow>=4.0 in /usr/local/lib/python3.6/dist-packages (from bokeh) (4.0.0)\n",
            "Requirement already satisfied: packaging>=16.8 in /usr/local/lib/python3.6/dist-packages (from bokeh) (18.0)\n",
            "Requirement already satisfied: tornado>=4.3 in /usr/local/lib/python3.6/dist-packages (from bokeh) (4.5.3)\n",
            "Requirement already satisfied: MarkupSafe>=0.23 in /usr/local/lib/python3.6/dist-packages (from Jinja2>=2.7->bokeh) (1.1.0)\n",
            "Requirement already satisfied: olefile in /usr/local/lib/python3.6/dist-packages (from pillow>=4.0->bokeh) (0.46)\n",
            "Requirement already satisfied: pyparsing>=2.0.2 in /usr/local/lib/python3.6/dist-packages (from packaging>=16.8->bokeh) (2.3.0)\n",
            "Requirement already satisfied: lxml in /usr/local/lib/python3.6/dist-packages (4.2.6)\n",
            "Requirement already satisfied: gensim in /usr/local/lib/python3.6/dist-packages (3.6.0)\n",
            "Requirement already satisfied: smart-open>=1.2.1 in /usr/local/lib/python3.6/dist-packages (from gensim) (1.7.1)\n",
            "Requirement already satisfied: numpy>=1.11.3 in /usr/local/lib/python3.6/dist-packages (from gensim) (1.14.6)\n",
            "Requirement already satisfied: six>=1.5.0 in /usr/local/lib/python3.6/dist-packages (from gensim) (1.11.0)\n",
            "Requirement already satisfied: scipy>=0.18.1 in /usr/local/lib/python3.6/dist-packages (from gensim) (1.1.0)\n",
            "Requirement already satisfied: boto>=2.32 in /usr/local/lib/python3.6/dist-packages (from smart-open>=1.2.1->gensim) (2.49.0)\n",
            "Requirement already satisfied: bz2file in /usr/local/lib/python3.6/dist-packages (from smart-open>=1.2.1->gensim) (0.98)\n",
            "Requirement already satisfied: requests in /usr/local/lib/python3.6/dist-packages (from smart-open>=1.2.1->gensim) (2.18.4)\n",
            "Requirement already satisfied: boto3 in /usr/local/lib/python3.6/dist-packages (from smart-open>=1.2.1->gensim) (1.9.72)\n",
            "Requirement already satisfied: idna<2.7,>=2.5 in /usr/local/lib/python3.6/dist-packages (from requests->smart-open>=1.2.1->gensim) (2.6)\n",
            "Requirement already satisfied: chardet<3.1.0,>=3.0.2 in /usr/local/lib/python3.6/dist-packages (from requests->smart-open>=1.2.1->gensim) (3.0.4)\n",
            "Requirement already satisfied: certifi>=2017.4.17 in /usr/local/lib/python3.6/dist-packages (from requests->smart-open>=1.2.1->gensim) (2018.11.29)\n",
            "Requirement already satisfied: urllib3<1.23,>=1.21.1 in /usr/local/lib/python3.6/dist-packages (from requests->smart-open>=1.2.1->gensim) (1.22)\n",
            "Requirement already satisfied: botocore<1.13.0,>=1.12.72 in /usr/local/lib/python3.6/dist-packages (from boto3->smart-open>=1.2.1->gensim) (1.12.72)\n",
            "Requirement already satisfied: s3transfer<0.2.0,>=0.1.10 in /usr/local/lib/python3.6/dist-packages (from boto3->smart-open>=1.2.1->gensim) (0.1.13)\n",
            "Requirement already satisfied: jmespath<1.0.0,>=0.7.1 in /usr/local/lib/python3.6/dist-packages (from boto3->smart-open>=1.2.1->gensim) (0.9.3)\n",
            "Requirement already satisfied: python-dateutil<3.0.0,>=2.1; python_version >= \"2.7\" in /usr/local/lib/python3.6/dist-packages (from botocore<1.13.0,>=1.12.72->boto3->smart-open>=1.2.1->gensim) (2.5.3)\n",
            "Requirement already satisfied: docutils>=0.10 in /usr/local/lib/python3.6/dist-packages (from botocore<1.13.0,>=1.12.72->boto3->smart-open>=1.2.1->gensim) (0.14)\n"
          ],
          "name": "stdout"
        }
      ]
    },
    {
      "metadata": {
        "id": "GjNLroOLCIAc",
        "colab_type": "code",
        "colab": {}
      },
      "cell_type": "code",
      "source": [
        "import numpy as np\n",
        "import os\n",
        "from random import shuffle\n",
        "import re"
      ],
      "execution_count": 0,
      "outputs": []
    },
    {
      "metadata": {
        "id": "QUanxHQSCO4N",
        "colab_type": "code",
        "colab": {}
      },
      "cell_type": "code",
      "source": [
        "import urllib.request\n",
        "import zipfile\n",
        "import lxml.etree\n"
      ],
      "execution_count": 0,
      "outputs": []
    },
    {
      "metadata": {
        "id": "3c6fllb-nN7a",
        "colab_type": "code",
        "colab": {}
      },
      "cell_type": "code",
      "source": [
        "\n",
        "import nltk\n",
        "import os\n",
        "from random import shuffle\n",
        "from gensim.models import Word2Vec"
      ],
      "execution_count": 0,
      "outputs": []
    },
    {
      "metadata": {
        "id": "4qZZPOQwrRDN",
        "colab_type": "code",
        "colab": {
          "base_uri": "https://localhost:8080/",
          "height": 51
        },
        "outputId": "a0b4fd56-db6c-4e5e-ba92-ace1617d1bc3"
      },
      "cell_type": "code",
      "source": [
        "from string import punctuation\n",
        "from os import listdir\n",
        "from collections import Counter\n",
        "import nltk\n",
        "nltk.download('stopwords')\n",
        "from nltk.corpus import stopwords\n",
        "!pip install -U -q PyDrive\n",
        "import os\n",
        "from pydrive.auth import GoogleAuth\n",
        "from pydrive.drive import GoogleDrive\n",
        "from google.colab import auth\n",
        "from oauth2client.client import GoogleCredentials\n",
        "\n"
      ],
      "execution_count": 17,
      "outputs": [
        {
          "output_type": "stream",
          "text": [
            "[nltk_data] Downloading package stopwords to /root/nltk_data...\n",
            "[nltk_data]   Package stopwords is already up-to-date!\n"
          ],
          "name": "stdout"
        }
      ]
    },
    {
      "metadata": {
        "id": "CyRqnbFRjnvk",
        "colab_type": "code",
        "colab": {
          "base_uri": "https://localhost:8080/",
          "height": 34
        },
        "outputId": "14f174b3-f668-4c39-f248-5192989a9a3d"
      },
      "cell_type": "code",
      "source": [
        "from google.colab import drive\n",
        "drive.mount('/content/drive/',force_remount=True)"
      ],
      "execution_count": 110,
      "outputs": [
        {
          "output_type": "stream",
          "text": [
            "Mounted at /content/drive/\n"
          ],
          "name": "stdout"
        }
      ]
    },
    {
      "metadata": {
        "id": "dV4IvOgOnJII",
        "colab_type": "code",
        "colab": {}
      },
      "cell_type": "code",
      "source": [
        "vocab_filename = '/content/drive/My Drive/Colab Notebooks/wikitext-103/wiki.train.tokens'"
      ],
      "execution_count": 0,
      "outputs": []
    },
    {
      "metadata": {
        "id": "SmQNvJ_2pyYu",
        "colab_type": "code",
        "colab": {}
      },
      "cell_type": "code",
      "source": [
        ""
      ],
      "execution_count": 0,
      "outputs": []
    },
    {
      "metadata": {
        "id": "3ER5oqoYr6wZ",
        "colab_type": "code",
        "colab": {
          "base_uri": "https://localhost:8080/",
          "height": 165
        },
        "outputId": "59b0d736-4f95-4131-bb52-94bc7434e29d"
      },
      "cell_type": "code",
      "source": [
        ""
      ],
      "execution_count": 19,
      "outputs": [
        {
          "output_type": "error",
          "ename": "NameError",
          "evalue": "ignored",
          "traceback": [
            "\u001b[0;31m---------------------------------------------------------------------------\u001b[0m",
            "\u001b[0;31mNameError\u001b[0m                                 Traceback (most recent call last)",
            "\u001b[0;32m<ipython-input-19-2be0aba89dbe>\u001b[0m in \u001b[0;36m<module>\u001b[0;34m()\u001b[0m\n\u001b[0;32m----> 1\u001b[0;31m \u001b[0mc\u001b[0m\u001b[0;34m=\u001b[0m\u001b[0mload_doc\u001b[0m\u001b[0;34m(\u001b[0m\u001b[0;34m\"/drive/'My Drive'/'wiki.train.tokens'\"\u001b[0m\u001b[0;34m)\u001b[0m\u001b[0;34m\u001b[0m\u001b[0;34m\u001b[0m\u001b[0m\n\u001b[0m",
            "\u001b[0;31mNameError\u001b[0m: name 'load_doc' is not defined"
          ]
        }
      ]
    },
    {
      "metadata": {
        "id": "YpBWNwSZHAat",
        "colab_type": "code",
        "colab": {
          "base_uri": "https://localhost:8080/",
          "height": 34
        },
        "outputId": "dab06f70-7b0c-4851-b761-f217202dc127"
      },
      "cell_type": "code",
      "source": [
        "from google.colab import drive\n",
        "drive.mount('/content/drive/')"
      ],
      "execution_count": 202,
      "outputs": [
        {
          "output_type": "stream",
          "text": [
            "Drive already mounted at /content/drive/; to attempt to forcibly remount, call drive.mount(\"/content/drive/\", force_remount=True).\n"
          ],
          "name": "stdout"
        }
      ]
    },
    {
      "metadata": {
        "id": "f54AB3k2u2V7",
        "colab_type": "code",
        "colab": {
          "base_uri": "https://localhost:8080/",
          "height": 51
        },
        "outputId": "97d5ec63-0ceb-4cba-bd65-9ffde3eb9414"
      },
      "cell_type": "code",
      "source": [
        "\n",
        "#!cwd = os.getcwd()  # Get the current working directory (cwd)"
      ],
      "execution_count": 203,
      "outputs": [
        {
          "output_type": "stream",
          "text": [
            "/bin/bash: -c: line 0: syntax error near unexpected token `('\n",
            "/bin/bash: -c: line 0: `cwd = os.getcwd()  # Get the current working directory (cwd)'\n"
          ],
          "name": "stdout"
        }
      ]
    },
    {
      "metadata": {
        "id": "5sEeKhciu3Ic",
        "colab_type": "code",
        "colab": {}
      },
      "cell_type": "code",
      "source": [
        "\n"
      ],
      "execution_count": 0,
      "outputs": []
    },
    {
      "metadata": {
        "id": "ctLAp4Je7cQM",
        "colab_type": "code",
        "colab": {
          "base_uri": "https://localhost:8080/",
          "height": 34
        },
        "outputId": "8db63f29-911d-4727-f833-0f289a592cae"
      },
      "cell_type": "code",
      "source": [
        ""
      ],
      "execution_count": 200,
      "outputs": [
        {
          "output_type": "stream",
          "text": [
            "cat: 'drive/My Drive/': Is a directory\n"
          ],
          "name": "stdout"
        }
      ]
    },
    {
      "metadata": {
        "id": "RQm1QMCT938A",
        "colab_type": "code",
        "colab": {
          "base_uri": "https://localhost:8080/",
          "height": 34
        },
        "outputId": "d993b573-897e-4d4c-b158-3cce8bc9f5c7"
      },
      "cell_type": "code",
      "source": [
        ""
      ],
      "execution_count": 120,
      "outputs": [
        {
          "output_type": "stream",
          "text": [
            "ls: cannot access 'fg': No such file or directory\n"
          ],
          "name": "stdout"
        }
      ]
    },
    {
      "metadata": {
        "id": "K5L97Nus97ws",
        "colab_type": "code",
        "colab": {
          "base_uri": "https://localhost:8080/",
          "height": 34
        },
        "outputId": "dbccb8af-cc7b-44de-ca1e-bc4af4c6a5c3"
      },
      "cell_type": "code",
      "source": [
        "!ls vocab_filename"
      ],
      "execution_count": 173,
      "outputs": [
        {
          "output_type": "stream",
          "text": [
            "ls: cannot access 'vocab_filename': No such file or directory\n"
          ],
          "name": "stdout"
        }
      ]
    },
    {
      "metadata": {
        "id": "NyQxVPfTNukf",
        "colab_type": "code",
        "colab": {}
      },
      "cell_type": "code",
      "source": [
        "vocab_filename = '/content/drive/My Drive/wiki.train.tokens'"
      ],
      "execution_count": 0,
      "outputs": []
    },
    {
      "metadata": {
        "id": "nIBvnABgBbvI",
        "colab_type": "code",
        "colab": {}
      },
      "cell_type": "code",
      "source": [
        "\n",
        "file = open(vocab_filename,'r', encoding=\"utf8\") \n",
        "\t# read all text\n",
        "text = file.read()\n",
        "\t# close the file\n",
        "file.close()\n",
        "\n",
        "\n",
        "  "
      ],
      "execution_count": 0,
      "outputs": []
    },
    {
      "metadata": {
        "id": "doBDLXPAKwK5",
        "colab_type": "code",
        "colab": {
          "base_uri": "https://localhost:8080/",
          "height": 54
        },
        "outputId": "9eb3c606-11c0-4a44-9b53-44ff6843934c"
      },
      "cell_type": "code",
      "source": [
        "sentences[1]"
      ],
      "execution_count": 10,
      "outputs": [
        {
          "output_type": "execute_result",
          "data": {
            "text/plain": [
              "'Valkyria of the Battlefield 3 ) , commonly referred to as Valkyria Chronicles III outside Japan , is a tactical role @-@ playing video game developed by Sega and Media.Vision for the PlayStation Portable .'"
            ]
          },
          "metadata": {
            "tags": []
          },
          "execution_count": 10
        }
      ]
    },
    {
      "metadata": {
        "id": "kFJejxC6K0CW",
        "colab_type": "code",
        "colab": {}
      },
      "cell_type": "code",
      "source": [
        "text=re.sub(r'\\[[0-9]*\\]', ' ',text)"
      ],
      "execution_count": 0,
      "outputs": []
    },
    {
      "metadata": {
        "id": "E8wOrVdMTpVs",
        "colab_type": "code",
        "colab": {}
      },
      "cell_type": "code",
      "source": [
        "text=re.sub(r'\\s+',' ',text)"
      ],
      "execution_count": 0,
      "outputs": []
    },
    {
      "metadata": {
        "id": "STy0NkLEUjTg",
        "colab_type": "code",
        "colab": {}
      },
      "cell_type": "code",
      "source": [
        "text=text.lower()"
      ],
      "execution_count": 0,
      "outputs": []
    },
    {
      "metadata": {
        "id": "ata6gafgUzI0",
        "colab_type": "code",
        "colab": {}
      },
      "cell_type": "code",
      "source": [
        "text=re.sub(r'[@#\\$%&\\*\\(\\)\\<\\>\\?\\'\\'\\]'\\\":;]')"
      ],
      "execution_count": 0,
      "outputs": []
    },
    {
      "metadata": {
        "id": "Rb__jxbqVDJr",
        "colab_type": "code",
        "colab": {}
      },
      "cell_type": "code",
      "source": [
        "text=re.sub(r'\\d',' ',text)"
      ],
      "execution_count": 0,
      "outputs": []
    },
    {
      "metadata": {
        "id": "KO0TJbkdVLNZ",
        "colab_type": "code",
        "colab": {}
      },
      "cell_type": "code",
      "source": [
        "text=re.sub(r'\\s+',' ',text)"
      ],
      "execution_count": 0,
      "outputs": []
    },
    {
      "metadata": {
        "id": "wGSo_8kLWuua",
        "colab_type": "code",
        "colab": {
          "base_uri": "https://localhost:8080/",
          "height": 68
        },
        "outputId": "31a2c8c0-eef3-4952-e187-8a69bedcaace"
      },
      "cell_type": "code",
      "source": [
        "nltk.download('punkt')"
      ],
      "execution_count": 26,
      "outputs": [
        {
          "output_type": "stream",
          "text": [
            "[nltk_data] Downloading package punkt to /root/nltk_data...\n",
            "[nltk_data]   Package punkt is already up-to-date!\n"
          ],
          "name": "stdout"
        },
        {
          "output_type": "execute_result",
          "data": {
            "text/plain": [
              "True"
            ]
          },
          "metadata": {
            "tags": []
          },
          "execution_count": 26
        }
      ]
    },
    {
      "metadata": {
        "id": "iPKzoRWVVcUf",
        "colab_type": "code",
        "colab": {}
      },
      "cell_type": "code",
      "source": [
        "sentences = nltk.sent_tokenize(text)\n"
      ],
      "execution_count": 0,
      "outputs": []
    },
    {
      "metadata": {
        "id": "fTTWW3GgrOqZ",
        "colab_type": "code",
        "colab": {}
      },
      "cell_type": "code",
      "source": [
        "\n",
        "  "
      ],
      "execution_count": 0,
      "outputs": []
    },
    {
      "metadata": {
        "id": "KmqCU_k737Ue",
        "colab_type": "code",
        "colab": {}
      },
      "cell_type": "code",
      "source": [
        "sentences_ted = []\n",
        "for sent_str in sentences:\n",
        "    tokens = re.sub(r\"[^a-z0-9]+\", \" \", sent_str.lower()).split()\n",
        "    sentences_ted.append(tokens)"
      ],
      "execution_count": 0,
      "outputs": []
    },
    {
      "metadata": {
        "id": "-Lqt0nuBieFS",
        "colab_type": "code",
        "colab": {}
      },
      "cell_type": "code",
      "source": [
        " #Training the Word2Vec model\n",
        "model = Word2Vec(sentences_ted, min_count=1)\n",
        "\n",
        "words = model.wv.vocab"
      ],
      "execution_count": 0,
      "outputs": []
    },
    {
      "metadata": {
        "id": "3rXT_F0oVyOh",
        "colab_type": "code",
        "colab": {
          "base_uri": "https://localhost:8080/",
          "height": 17034
        },
        "outputId": "9bb4bcf4-c0ff-473f-e063-67232cf0f882"
      },
      "cell_type": "code",
      "source": [
        "words\n"
      ],
      "execution_count": 39,
      "outputs": [
        {
          "output_type": "execute_result",
          "data": {
            "text/plain": [
              "{'valkyria': <gensim.models.keyedvectors.Vocab at 0x7ff1bb5fe6d8>,\n",
              " 'chronicles': <gensim.models.keyedvectors.Vocab at 0x7ff1bb5fe710>,\n",
              " 'iii': <gensim.models.keyedvectors.Vocab at 0x7ff1bb5fe748>,\n",
              " 'senj': <gensim.models.keyedvectors.Vocab at 0x7ff1bb5fe780>,\n",
              " 'no': <gensim.models.keyedvectors.Vocab at 0x7ff1bb5fe7b8>,\n",
              " 'unk': <gensim.models.keyedvectors.Vocab at 0x7ff1bb5fe7f0>,\n",
              " 'japanese': <gensim.models.keyedvectors.Vocab at 0x7ff1bb5fe828>,\n",
              " 'lit': <gensim.models.keyedvectors.Vocab at 0x7ff1bb5fe860>,\n",
              " 'of': <gensim.models.keyedvectors.Vocab at 0x7ff1bb5fe898>,\n",
              " 'the': <gensim.models.keyedvectors.Vocab at 0x7ff1bb5fe8d0>,\n",
              " 'battlefield': <gensim.models.keyedvectors.Vocab at 0x7ff1bb5fe908>,\n",
              " 'commonly': <gensim.models.keyedvectors.Vocab at 0x7ff1bb5fe940>,\n",
              " 'referred': <gensim.models.keyedvectors.Vocab at 0x7ff1bb5fe978>,\n",
              " 'to': <gensim.models.keyedvectors.Vocab at 0x7ff1bb5fe9b0>,\n",
              " 'as': <gensim.models.keyedvectors.Vocab at 0x7ff1bb5fe9e8>,\n",
              " 'outside': <gensim.models.keyedvectors.Vocab at 0x7ff1bb5fea20>,\n",
              " 'japan': <gensim.models.keyedvectors.Vocab at 0x7ff1bb5fea58>,\n",
              " 'is': <gensim.models.keyedvectors.Vocab at 0x7ff1bb5fea90>,\n",
              " 'a': <gensim.models.keyedvectors.Vocab at 0x7ff1bb5feac8>,\n",
              " 'tactical': <gensim.models.keyedvectors.Vocab at 0x7ff1bb5feb00>,\n",
              " 'role': <gensim.models.keyedvectors.Vocab at 0x7ff1bb5feb38>,\n",
              " 'playing': <gensim.models.keyedvectors.Vocab at 0x7ff1bb5feb70>,\n",
              " 'video': <gensim.models.keyedvectors.Vocab at 0x7ff1bb5feba8>,\n",
              " 'game': <gensim.models.keyedvectors.Vocab at 0x7ff1bb5febe0>,\n",
              " 'developed': <gensim.models.keyedvectors.Vocab at 0x7ff1bb5fec18>,\n",
              " 'by': <gensim.models.keyedvectors.Vocab at 0x7ff1bb5fec50>,\n",
              " 'sega': <gensim.models.keyedvectors.Vocab at 0x7ff1bb5fec88>,\n",
              " 'and': <gensim.models.keyedvectors.Vocab at 0x7ff1bb5fecc0>,\n",
              " 'media': <gensim.models.keyedvectors.Vocab at 0x7ff1bb5fecf8>,\n",
              " 'vision': <gensim.models.keyedvectors.Vocab at 0x7ff1bb5fed30>,\n",
              " 'for': <gensim.models.keyedvectors.Vocab at 0x7ff1bb5fed68>,\n",
              " 'playstation': <gensim.models.keyedvectors.Vocab at 0x7ff1bb5feda0>,\n",
              " 'portable': <gensim.models.keyedvectors.Vocab at 0x7ff1bb5fedd8>,\n",
              " 'released': <gensim.models.keyedvectors.Vocab at 0x7ff1bb5fee10>,\n",
              " 'in': <gensim.models.keyedvectors.Vocab at 0x7ff1bb5fee48>,\n",
              " 'january': <gensim.models.keyedvectors.Vocab at 0x7ff1bb5fee80>,\n",
              " 'it': <gensim.models.keyedvectors.Vocab at 0x7ff1bb5feeb8>,\n",
              " 'third': <gensim.models.keyedvectors.Vocab at 0x7ff1bb5feef0>,\n",
              " 'series': <gensim.models.keyedvectors.Vocab at 0x7ff1bb5fef28>,\n",
              " 'employing': <gensim.models.keyedvectors.Vocab at 0x7ff1bb5fef60>,\n",
              " 'same': <gensim.models.keyedvectors.Vocab at 0x7ff1bb5fef98>,\n",
              " 'fusion': <gensim.models.keyedvectors.Vocab at 0x7ff1bb5fefd0>,\n",
              " 'real': <gensim.models.keyedvectors.Vocab at 0x7ff1b9591048>,\n",
              " 'time': <gensim.models.keyedvectors.Vocab at 0x7ff1b9591080>,\n",
              " 'gameplay': <gensim.models.keyedvectors.Vocab at 0x7ff1b95910b8>,\n",
              " 'its': <gensim.models.keyedvectors.Vocab at 0x7ff1b95910f0>,\n",
              " 'predecessors': <gensim.models.keyedvectors.Vocab at 0x7ff1b9591128>,\n",
              " 'story': <gensim.models.keyedvectors.Vocab at 0x7ff1b9591160>,\n",
              " 'runs': <gensim.models.keyedvectors.Vocab at 0x7ff1b9591198>,\n",
              " 'parallel': <gensim.models.keyedvectors.Vocab at 0x7ff1b95911d0>,\n",
              " 'first': <gensim.models.keyedvectors.Vocab at 0x7ff1b9591208>,\n",
              " 'follows': <gensim.models.keyedvectors.Vocab at 0x7ff1b9591240>,\n",
              " 'nameless': <gensim.models.keyedvectors.Vocab at 0x7ff1b9591278>,\n",
              " 'penal': <gensim.models.keyedvectors.Vocab at 0x7ff1b95912b0>,\n",
              " 'military': <gensim.models.keyedvectors.Vocab at 0x7ff1b95912e8>,\n",
              " 'unit': <gensim.models.keyedvectors.Vocab at 0x7ff1b9591320>,\n",
              " 'serving': <gensim.models.keyedvectors.Vocab at 0x7ff1b9591358>,\n",
              " 'nation': <gensim.models.keyedvectors.Vocab at 0x7ff1b9591390>,\n",
              " 'gallia': <gensim.models.keyedvectors.Vocab at 0x7ff1b95913c8>,\n",
              " 'during': <gensim.models.keyedvectors.Vocab at 0x7ff1b9591400>,\n",
              " 'second': <gensim.models.keyedvectors.Vocab at 0x7ff1b9591438>,\n",
              " 'europan': <gensim.models.keyedvectors.Vocab at 0x7ff1b9591470>,\n",
              " 'war': <gensim.models.keyedvectors.Vocab at 0x7ff1b95914a8>,\n",
              " 'who': <gensim.models.keyedvectors.Vocab at 0x7ff1b95914e0>,\n",
              " 'perform': <gensim.models.keyedvectors.Vocab at 0x7ff1b9591518>,\n",
              " 'secret': <gensim.models.keyedvectors.Vocab at 0x7ff1b9591550>,\n",
              " 'black': <gensim.models.keyedvectors.Vocab at 0x7ff1b9591588>,\n",
              " 'operations': <gensim.models.keyedvectors.Vocab at 0x7ff1b95915c0>,\n",
              " 'are': <gensim.models.keyedvectors.Vocab at 0x7ff1b95915f8>,\n",
              " 'pitted': <gensim.models.keyedvectors.Vocab at 0x7ff1b9591630>,\n",
              " 'against': <gensim.models.keyedvectors.Vocab at 0x7ff1b9591668>,\n",
              " 'imperial': <gensim.models.keyedvectors.Vocab at 0x7ff1b95916a0>,\n",
              " 'raven': <gensim.models.keyedvectors.Vocab at 0x7ff1b95916d8>,\n",
              " 'began': <gensim.models.keyedvectors.Vocab at 0x7ff1b9591710>,\n",
              " 'development': <gensim.models.keyedvectors.Vocab at 0x7ff1b9591748>,\n",
              " 'carrying': <gensim.models.keyedvectors.Vocab at 0x7ff1b9591780>,\n",
              " 'over': <gensim.models.keyedvectors.Vocab at 0x7ff1b95917b8>,\n",
              " 'large': <gensim.models.keyedvectors.Vocab at 0x7ff1b95917f0>,\n",
              " 'portion': <gensim.models.keyedvectors.Vocab at 0x7ff1b9591828>,\n",
              " 'work': <gensim.models.keyedvectors.Vocab at 0x7ff1b9591860>,\n",
              " 'done': <gensim.models.keyedvectors.Vocab at 0x7ff1b9591898>,\n",
              " 'on': <gensim.models.keyedvectors.Vocab at 0x7ff1b95918d0>,\n",
              " 'ii': <gensim.models.keyedvectors.Vocab at 0x7ff1b9591908>,\n",
              " 'while': <gensim.models.keyedvectors.Vocab at 0x7ff1b9591940>,\n",
              " 'retained': <gensim.models.keyedvectors.Vocab at 0x7ff1b9591978>,\n",
              " 'standard': <gensim.models.keyedvectors.Vocab at 0x7ff1b95919b0>,\n",
              " 'features': <gensim.models.keyedvectors.Vocab at 0x7ff1b95919e8>,\n",
              " 'also': <gensim.models.keyedvectors.Vocab at 0x7ff1b9591a20>,\n",
              " 'underwent': <gensim.models.keyedvectors.Vocab at 0x7ff1b9591a58>,\n",
              " 'multiple': <gensim.models.keyedvectors.Vocab at 0x7ff1b9591a90>,\n",
              " 'adjustments': <gensim.models.keyedvectors.Vocab at 0x7ff1b9591ac8>,\n",
              " 'such': <gensim.models.keyedvectors.Vocab at 0x7ff1b9591b00>,\n",
              " 'making': <gensim.models.keyedvectors.Vocab at 0x7ff1b9591b38>,\n",
              " 'more': <gensim.models.keyedvectors.Vocab at 0x7ff1b9591b70>,\n",
              " 'forgiving': <gensim.models.keyedvectors.Vocab at 0x7ff1b9591ba8>,\n",
              " 'newcomers': <gensim.models.keyedvectors.Vocab at 0x7ff1b9591be0>,\n",
              " 'character': <gensim.models.keyedvectors.Vocab at 0x7ff1b9591c18>,\n",
              " 'designer': <gensim.models.keyedvectors.Vocab at 0x7ff1b9591c50>,\n",
              " 'honjou': <gensim.models.keyedvectors.Vocab at 0x7ff1b9591c88>,\n",
              " 'composer': <gensim.models.keyedvectors.Vocab at 0x7ff1b9591cc0>,\n",
              " 'hitoshi': <gensim.models.keyedvectors.Vocab at 0x7ff1b9591cf8>,\n",
              " 'sakimoto': <gensim.models.keyedvectors.Vocab at 0x7ff1b9591d30>,\n",
              " 'both': <gensim.models.keyedvectors.Vocab at 0x7ff1b9591d68>,\n",
              " 'returned': <gensim.models.keyedvectors.Vocab at 0x7ff1b9591da0>,\n",
              " 'from': <gensim.models.keyedvectors.Vocab at 0x7ff1b9591dd8>,\n",
              " 'previous': <gensim.models.keyedvectors.Vocab at 0x7ff1b9591e10>,\n",
              " 'entries': <gensim.models.keyedvectors.Vocab at 0x7ff1b9591e48>,\n",
              " 'along': <gensim.models.keyedvectors.Vocab at 0x7ff1b9591e80>,\n",
              " 'with': <gensim.models.keyedvectors.Vocab at 0x7ff1b9591eb8>,\n",
              " 'director': <gensim.models.keyedvectors.Vocab at 0x7ff1b9591ef0>,\n",
              " 'takeshi': <gensim.models.keyedvectors.Vocab at 0x7ff1b9591f28>,\n",
              " 'ozawa': <gensim.models.keyedvectors.Vocab at 0x7ff1b9591f60>,\n",
              " 'team': <gensim.models.keyedvectors.Vocab at 0x7ff1b9591f98>,\n",
              " 'writers': <gensim.models.keyedvectors.Vocab at 0x7ff1b9591fd0>,\n",
              " 'handled': <gensim.models.keyedvectors.Vocab at 0x7ff1b9593048>,\n",
              " 'script': <gensim.models.keyedvectors.Vocab at 0x7ff1b9593080>,\n",
              " 's': <gensim.models.keyedvectors.Vocab at 0x7ff1b95930b8>,\n",
              " 'opening': <gensim.models.keyedvectors.Vocab at 0x7ff1b95930f0>,\n",
              " 'theme': <gensim.models.keyedvectors.Vocab at 0x7ff1b9593128>,\n",
              " 'was': <gensim.models.keyedvectors.Vocab at 0x7ff1b9593160>,\n",
              " 'sung': <gensim.models.keyedvectors.Vocab at 0x7ff1b9593198>,\n",
              " 'may': <gensim.models.keyedvectors.Vocab at 0x7ff1b95931d0>,\n",
              " 'n': <gensim.models.keyedvectors.Vocab at 0x7ff1b9593208>,\n",
              " 'met': <gensim.models.keyedvectors.Vocab at 0x7ff1b9593240>,\n",
              " 'positive': <gensim.models.keyedvectors.Vocab at 0x7ff1b9593278>,\n",
              " 'sales': <gensim.models.keyedvectors.Vocab at 0x7ff1b95932b0>,\n",
              " 'praised': <gensim.models.keyedvectors.Vocab at 0x7ff1b95932e8>,\n",
              " 'western': <gensim.models.keyedvectors.Vocab at 0x7ff1b9593320>,\n",
              " 'critics': <gensim.models.keyedvectors.Vocab at 0x7ff1b9593358>,\n",
              " 'after': <gensim.models.keyedvectors.Vocab at 0x7ff1b9593390>,\n",
              " 'release': <gensim.models.keyedvectors.Vocab at 0x7ff1b95933c8>,\n",
              " 'received': <gensim.models.keyedvectors.Vocab at 0x7ff1b9593400>,\n",
              " 'downloadable': <gensim.models.keyedvectors.Vocab at 0x7ff1b9593438>,\n",
              " 'content': <gensim.models.keyedvectors.Vocab at 0x7ff1b9593470>,\n",
              " 'an': <gensim.models.keyedvectors.Vocab at 0x7ff1b95934a8>,\n",
              " 'expanded': <gensim.models.keyedvectors.Vocab at 0x7ff1b95934e0>,\n",
              " 'edition': <gensim.models.keyedvectors.Vocab at 0x7ff1b9593518>,\n",
              " 'november': <gensim.models.keyedvectors.Vocab at 0x7ff1b9593550>,\n",
              " 'that': <gensim.models.keyedvectors.Vocab at 0x7ff1b9593588>,\n",
              " 'year': <gensim.models.keyedvectors.Vocab at 0x7ff1b95935c0>,\n",
              " 'adapted': <gensim.models.keyedvectors.Vocab at 0x7ff1b95935f8>,\n",
              " 'into': <gensim.models.keyedvectors.Vocab at 0x7ff1b9593630>,\n",
              " 'manga': <gensim.models.keyedvectors.Vocab at 0x7ff1b9593668>,\n",
              " 'original': <gensim.models.keyedvectors.Vocab at 0x7ff1b95936a0>,\n",
              " 'animation': <gensim.models.keyedvectors.Vocab at 0x7ff1b95936d8>,\n",
              " 'due': <gensim.models.keyedvectors.Vocab at 0x7ff1b9593710>,\n",
              " 'low': <gensim.models.keyedvectors.Vocab at 0x7ff1b9593748>,\n",
              " 'not': <gensim.models.keyedvectors.Vocab at 0x7ff1b9593780>,\n",
              " 'localized': <gensim.models.keyedvectors.Vocab at 0x7ff1b95937b8>,\n",
              " 'but': <gensim.models.keyedvectors.Vocab at 0x7ff1b95937f0>,\n",
              " 'fan': <gensim.models.keyedvectors.Vocab at 0x7ff1b9593828>,\n",
              " 'translation': <gensim.models.keyedvectors.Vocab at 0x7ff1b9593860>,\n",
              " 'compatible': <gensim.models.keyedvectors.Vocab at 0x7ff1b9593898>,\n",
              " 'would': <gensim.models.keyedvectors.Vocab at 0x7ff1b95938d0>,\n",
              " 'return': <gensim.models.keyedvectors.Vocab at 0x7ff1b9593908>,\n",
              " 'franchise': <gensim.models.keyedvectors.Vocab at 0x7ff1b9593940>,\n",
              " 'azure': <gensim.models.keyedvectors.Vocab at 0x7ff1b9593978>,\n",
              " 'revolution': <gensim.models.keyedvectors.Vocab at 0x7ff1b95939b0>,\n",
              " 'games': <gensim.models.keyedvectors.Vocab at 0x7ff1b95939e8>,\n",
              " 'where': <gensim.models.keyedvectors.Vocab at 0x7ff1b9593a20>,\n",
              " 'players': <gensim.models.keyedvectors.Vocab at 0x7ff1b9593a58>,\n",
              " 'take': <gensim.models.keyedvectors.Vocab at 0x7ff1b9593a90>,\n",
              " 'control': <gensim.models.keyedvectors.Vocab at 0x7ff1b9593ac8>,\n",
              " 'part': <gensim.models.keyedvectors.Vocab at 0x7ff1b9593b00>,\n",
              " 'missions': <gensim.models.keyedvectors.Vocab at 0x7ff1b9593b38>,\n",
              " 'enemy': <gensim.models.keyedvectors.Vocab at 0x7ff1b9593b70>,\n",
              " 'forces': <gensim.models.keyedvectors.Vocab at 0x7ff1b9593ba8>,\n",
              " 'stories': <gensim.models.keyedvectors.Vocab at 0x7ff1b9593be0>,\n",
              " 'told': <gensim.models.keyedvectors.Vocab at 0x7ff1b9593c18>,\n",
              " 'through': <gensim.models.keyedvectors.Vocab at 0x7ff1b9593c50>,\n",
              " 'comic': <gensim.models.keyedvectors.Vocab at 0x7ff1b9593c88>,\n",
              " 'book': <gensim.models.keyedvectors.Vocab at 0x7ff1b9593cc0>,\n",
              " 'like': <gensim.models.keyedvectors.Vocab at 0x7ff1b9593cf8>,\n",
              " 'panels': <gensim.models.keyedvectors.Vocab at 0x7ff1b9593d30>,\n",
              " 'animated': <gensim.models.keyedvectors.Vocab at 0x7ff1b9593d68>,\n",
              " 'portraits': <gensim.models.keyedvectors.Vocab at 0x7ff1b9593da0>,\n",
              " 'characters': <gensim.models.keyedvectors.Vocab at 0x7ff1b9593dd8>,\n",
              " 'speaking': <gensim.models.keyedvectors.Vocab at 0x7ff1b9593e10>,\n",
              " 'partially': <gensim.models.keyedvectors.Vocab at 0x7ff1b9593e48>,\n",
              " 'voiced': <gensim.models.keyedvectors.Vocab at 0x7ff1b9593e80>,\n",
              " 'speech': <gensim.models.keyedvectors.Vocab at 0x7ff1b9593eb8>,\n",
              " 'bubbles': <gensim.models.keyedvectors.Vocab at 0x7ff1b9593ef0>,\n",
              " 'unvoiced': <gensim.models.keyedvectors.Vocab at 0x7ff1b9593f28>,\n",
              " 'text': <gensim.models.keyedvectors.Vocab at 0x7ff1b9593f60>,\n",
              " 'player': <gensim.models.keyedvectors.Vocab at 0x7ff1b9593f98>,\n",
              " 'progresses': <gensim.models.keyedvectors.Vocab at 0x7ff1b9593fd0>,\n",
              " 'linear': <gensim.models.keyedvectors.Vocab at 0x7ff1b9516048>,\n",
              " 'gradually': <gensim.models.keyedvectors.Vocab at 0x7ff1b9516080>,\n",
              " 'unlocked': <gensim.models.keyedvectors.Vocab at 0x7ff1b95160b8>,\n",
              " 'maps': <gensim.models.keyedvectors.Vocab at 0x7ff1b95160f0>,\n",
              " 'can': <gensim.models.keyedvectors.Vocab at 0x7ff1b9516128>,\n",
              " 'be': <gensim.models.keyedvectors.Vocab at 0x7ff1b9516160>,\n",
              " 'freely': <gensim.models.keyedvectors.Vocab at 0x7ff1b9516198>,\n",
              " 'scanned': <gensim.models.keyedvectors.Vocab at 0x7ff1b95161d0>,\n",
              " 'replayed': <gensim.models.keyedvectors.Vocab at 0x7ff1b9516208>,\n",
              " 'they': <gensim.models.keyedvectors.Vocab at 0x7ff1b9516240>,\n",
              " 'route': <gensim.models.keyedvectors.Vocab at 0x7ff1b9516278>,\n",
              " 'each': <gensim.models.keyedvectors.Vocab at 0x7ff1b95162b0>,\n",
              " 'location': <gensim.models.keyedvectors.Vocab at 0x7ff1b95162e8>,\n",
              " 'map': <gensim.models.keyedvectors.Vocab at 0x7ff1b9516320>,\n",
              " 'varies': <gensim.models.keyedvectors.Vocab at 0x7ff1b9516358>,\n",
              " 'depending': <gensim.models.keyedvectors.Vocab at 0x7ff1b9516390>,\n",
              " 'individual': <gensim.models.keyedvectors.Vocab at 0x7ff1b95163c8>,\n",
              " 'approach': <gensim.models.keyedvectors.Vocab at 0x7ff1b9516400>,\n",
              " 'when': <gensim.models.keyedvectors.Vocab at 0x7ff1b9516438>,\n",
              " 'one': <gensim.models.keyedvectors.Vocab at 0x7ff1b9516470>,\n",
              " 'option': <gensim.models.keyedvectors.Vocab at 0x7ff1b95164a8>,\n",
              " 'selected': <gensim.models.keyedvectors.Vocab at 0x7ff1b95164e0>,\n",
              " 'other': <gensim.models.keyedvectors.Vocab at 0x7ff1b9516518>,\n",
              " 'sealed': <gensim.models.keyedvectors.Vocab at 0x7ff1b9516550>,\n",
              " 'off': <gensim.models.keyedvectors.Vocab at 0x7ff1b9516588>,\n",
              " 'rest': <gensim.models.keyedvectors.Vocab at 0x7ff1b95165c0>,\n",
              " 'camp': <gensim.models.keyedvectors.Vocab at 0x7ff1b95165f8>,\n",
              " 'units': <gensim.models.keyedvectors.Vocab at 0x7ff1b9516630>,\n",
              " 'customized': <gensim.models.keyedvectors.Vocab at 0x7ff1b9516668>,\n",
              " 'growth': <gensim.models.keyedvectors.Vocab at 0x7ff1b95166a0>,\n",
              " 'occurs': <gensim.models.keyedvectors.Vocab at 0x7ff1b95166d8>,\n",
              " 'alongside': <gensim.models.keyedvectors.Vocab at 0x7ff1b9516710>,\n",
              " 'main': <gensim.models.keyedvectors.Vocab at 0x7ff1b9516748>,\n",
              " 'specific': <gensim.models.keyedvectors.Vocab at 0x7ff1b9516780>,\n",
              " 'sub': <gensim.models.keyedvectors.Vocab at 0x7ff1b95167b8>,\n",
              " 'relating': <gensim.models.keyedvectors.Vocab at 0x7ff1b95167f0>,\n",
              " 'different': <gensim.models.keyedvectors.Vocab at 0x7ff1b9516828>,\n",
              " 'squad': <gensim.models.keyedvectors.Vocab at 0x7ff1b9516860>,\n",
              " 'members': <gensim.models.keyedvectors.Vocab at 0x7ff1b9516898>,\n",
              " 'completion': <gensim.models.keyedvectors.Vocab at 0x7ff1b95168d0>,\n",
              " 'additional': <gensim.models.keyedvectors.Vocab at 0x7ff1b9516908>,\n",
              " 'episodes': <gensim.models.keyedvectors.Vocab at 0x7ff1b9516940>,\n",
              " 'some': <gensim.models.keyedvectors.Vocab at 0x7ff1b9516978>,\n",
              " 'them': <gensim.models.keyedvectors.Vocab at 0x7ff1b95169b0>,\n",
              " 'having': <gensim.models.keyedvectors.Vocab at 0x7ff1b95169e8>,\n",
              " 'higher': <gensim.models.keyedvectors.Vocab at 0x7ff1b9516a20>,\n",
              " 'difficulty': <gensim.models.keyedvectors.Vocab at 0x7ff1b9516a58>,\n",
              " 'than': <gensim.models.keyedvectors.Vocab at 0x7ff1b9516a90>,\n",
              " 'those': <gensim.models.keyedvectors.Vocab at 0x7ff1b9516ac8>,\n",
              " 'found': <gensim.models.keyedvectors.Vocab at 0x7ff1b9516b00>,\n",
              " 'there': <gensim.models.keyedvectors.Vocab at 0x7ff1b9516b38>,\n",
              " 'love': <gensim.models.keyedvectors.Vocab at 0x7ff1b9516b70>,\n",
              " 'simulation': <gensim.models.keyedvectors.Vocab at 0x7ff1b9516ba8>,\n",
              " 'elements': <gensim.models.keyedvectors.Vocab at 0x7ff1b9516be0>,\n",
              " 'related': <gensim.models.keyedvectors.Vocab at 0x7ff1b9516c18>,\n",
              " 'two': <gensim.models.keyedvectors.Vocab at 0x7ff1b9516c50>,\n",
              " 'heroines': <gensim.models.keyedvectors.Vocab at 0x7ff1b9516c88>,\n",
              " 'although': <gensim.models.keyedvectors.Vocab at 0x7ff1b9516cc0>,\n",
              " 'very': <gensim.models.keyedvectors.Vocab at 0x7ff1b9516cf8>,\n",
              " 'minor': <gensim.models.keyedvectors.Vocab at 0x7ff1b9516d30>,\n",
              " 'battle': <gensim.models.keyedvectors.Vocab at 0x7ff1b9516d68>,\n",
              " 'system': <gensim.models.keyedvectors.Vocab at 0x7ff1b9516da0>,\n",
              " 'carried': <gensim.models.keyedvectors.Vocab at 0x7ff1b9516dd8>,\n",
              " 'directly': <gensim.models.keyedvectors.Vocab at 0x7ff1b9516e10>,\n",
              " 'select': <gensim.models.keyedvectors.Vocab at 0x7ff1b9516e48>,\n",
              " 'using': <gensim.models.keyedvectors.Vocab at 0x7ff1b9516e80>,\n",
              " 'top': <gensim.models.keyedvectors.Vocab at 0x7ff1b9516eb8>,\n",
              " 'down': <gensim.models.keyedvectors.Vocab at 0x7ff1b9516ef0>,\n",
              " 'perspective': <gensim.models.keyedvectors.Vocab at 0x7ff1b9516f28>,\n",
              " 'once': <gensim.models.keyedvectors.Vocab at 0x7ff1b9516f60>,\n",
              " 'moves': <gensim.models.keyedvectors.Vocab at 0x7ff1b9516f98>,\n",
              " 'around': <gensim.models.keyedvectors.Vocab at 0x7ff1b9516fd0>,\n",
              " 'person': <gensim.models.keyedvectors.Vocab at 0x7ff1b9519048>,\n",
              " 'only': <gensim.models.keyedvectors.Vocab at 0x7ff1b9519080>,\n",
              " 'act': <gensim.models.keyedvectors.Vocab at 0x7ff1b95190b8>,\n",
              " 'per': <gensim.models.keyedvectors.Vocab at 0x7ff1b95190f0>,\n",
              " 'turn': <gensim.models.keyedvectors.Vocab at 0x7ff1b9519128>,\n",
              " 'granted': <gensim.models.keyedvectors.Vocab at 0x7ff1b9519160>,\n",
              " 'turns': <gensim.models.keyedvectors.Vocab at 0x7ff1b9519198>,\n",
              " 'at': <gensim.models.keyedvectors.Vocab at 0x7ff1b95191d0>,\n",
              " 'expense': <gensim.models.keyedvectors.Vocab at 0x7ff1b9519208>,\n",
              " 'has': <gensim.models.keyedvectors.Vocab at 0x7ff1b9519240>,\n",
              " 'field': <gensim.models.keyedvectors.Vocab at 0x7ff1b9519278>,\n",
              " 'distance': <gensim.models.keyedvectors.Vocab at 0x7ff1b95192b0>,\n",
              " 'movement': <gensim.models.keyedvectors.Vocab at 0x7ff1b95192e8>,\n",
              " 'limited': <gensim.models.keyedvectors.Vocab at 0x7ff1b9519320>,\n",
              " 'their': <gensim.models.keyedvectors.Vocab at 0x7ff1b9519358>,\n",
              " 'action': <gensim.models.keyedvectors.Vocab at 0x7ff1b9519390>,\n",
              " 'gauge': <gensim.models.keyedvectors.Vocab at 0x7ff1b95193c8>,\n",
              " 'up': <gensim.models.keyedvectors.Vocab at 0x7ff1b9519400>,\n",
              " 'nine': <gensim.models.keyedvectors.Vocab at 0x7ff1b9519438>,\n",
              " 'assigned': <gensim.models.keyedvectors.Vocab at 0x7ff1b9519470>,\n",
              " 'single': <gensim.models.keyedvectors.Vocab at 0x7ff1b95194a8>,\n",
              " 'mission': <gensim.models.keyedvectors.Vocab at 0x7ff1b95194e0>,\n",
              " 'will': <gensim.models.keyedvectors.Vocab at 0x7ff1b9519518>,\n",
              " 'call': <gensim.models.keyedvectors.Vocab at 0x7ff1b9519550>,\n",
              " 'out': <gensim.models.keyedvectors.Vocab at 0x7ff1b9519588>,\n",
              " 'if': <gensim.models.keyedvectors.Vocab at 0x7ff1b95195c0>,\n",
              " 'something': <gensim.models.keyedvectors.Vocab at 0x7ff1b95195f8>,\n",
              " 'happens': <gensim.models.keyedvectors.Vocab at 0x7ff1b9519630>,\n",
              " 'health': <gensim.models.keyedvectors.Vocab at 0x7ff1b9519668>,\n",
              " 'points': <gensim.models.keyedvectors.Vocab at 0x7ff1b95196a0>,\n",
              " 'hp': <gensim.models.keyedvectors.Vocab at 0x7ff1b95196d8>,\n",
              " 'getting': <gensim.models.keyedvectors.Vocab at 0x7ff1b9519710>,\n",
              " 'or': <gensim.models.keyedvectors.Vocab at 0x7ff1b9519748>,\n",
              " 'being': <gensim.models.keyedvectors.Vocab at 0x7ff1b9519780>,\n",
              " 'knocked': <gensim.models.keyedvectors.Vocab at 0x7ff1b95197b8>,\n",
              " 'attacks': <gensim.models.keyedvectors.Vocab at 0x7ff1b95197f0>,\n",
              " 'potentials': <gensim.models.keyedvectors.Vocab at 0x7ff1b9519828>,\n",
              " 'skills': <gensim.models.keyedvectors.Vocab at 0x7ff1b9519860>,\n",
              " 'unique': <gensim.models.keyedvectors.Vocab at 0x7ff1b9519898>,\n",
              " 'divided': <gensim.models.keyedvectors.Vocab at 0x7ff1b95198d0>,\n",
              " 'personal': <gensim.models.keyedvectors.Vocab at 0x7ff1b9519908>,\n",
              " 'potential': <gensim.models.keyedvectors.Vocab at 0x7ff1b9519940>,\n",
              " 'which': <gensim.models.keyedvectors.Vocab at 0x7ff1b9519978>,\n",
              " 'innate': <gensim.models.keyedvectors.Vocab at 0x7ff1b95199b0>,\n",
              " 'remain': <gensim.models.keyedvectors.Vocab at 0x7ff1b95199e8>,\n",
              " 'unaltered': <gensim.models.keyedvectors.Vocab at 0x7ff1b9519a20>,\n",
              " 'unless': <gensim.models.keyedvectors.Vocab at 0x7ff1b9519a58>,\n",
              " 'otherwise': <gensim.models.keyedvectors.Vocab at 0x7ff1b9519a90>,\n",
              " 'dictated': <gensim.models.keyedvectors.Vocab at 0x7ff1b9519ac8>,\n",
              " 'either': <gensim.models.keyedvectors.Vocab at 0x7ff1b9519b00>,\n",
              " 'help': <gensim.models.keyedvectors.Vocab at 0x7ff1b9519b38>,\n",
              " 'impede': <gensim.models.keyedvectors.Vocab at 0x7ff1b9519b70>,\n",
              " 'grown': <gensim.models.keyedvectors.Vocab at 0x7ff1b9519ba8>,\n",
              " 'throughout': <gensim.models.keyedvectors.Vocab at 0x7ff1b9519be0>,\n",
              " 'always': <gensim.models.keyedvectors.Vocab at 0x7ff1b9519c18>,\n",
              " 'grant': <gensim.models.keyedvectors.Vocab at 0x7ff1b9519c50>,\n",
              " 'boons': <gensim.models.keyedvectors.Vocab at 0x7ff1b9519c88>,\n",
              " 'learn': <gensim.models.keyedvectors.Vocab at 0x7ff1b9519cc0>,\n",
              " 'masters': <gensim.models.keyedvectors.Vocab at 0x7ff1b9519cf8>,\n",
              " 'table': <gensim.models.keyedvectors.Vocab at 0x7ff1b9519d30>,\n",
              " 'grid': <gensim.models.keyedvectors.Vocab at 0x7ff1b9519d68>,\n",
              " 'based': <gensim.models.keyedvectors.Vocab at 0x7ff1b9519da0>,\n",
              " 'skill': <gensim.models.keyedvectors.Vocab at 0x7ff1b9519dd8>,\n",
              " 'used': <gensim.models.keyedvectors.Vocab at 0x7ff1b9519e10>,\n",
              " 'acquire': <gensim.models.keyedvectors.Vocab at 0x7ff1b9519e48>,\n",
              " 'link': <gensim.models.keyedvectors.Vocab at 0x7ff1b9519e80>,\n",
              " 'have': <gensim.models.keyedvectors.Vocab at 0x7ff1b9519eb8>,\n",
              " 'special': <gensim.models.keyedvectors.Vocab at 0x7ff1b9519ef0>,\n",
              " 'abilities': <gensim.models.keyedvectors.Vocab at 0x7ff1b9519f28>,\n",
              " 'temporary': <gensim.models.keyedvectors.Vocab at 0x7ff1b9519f60>,\n",
              " 'boosts': <gensim.models.keyedvectors.Vocab at 0x7ff1b9519f98>,\n",
              " 'kurt': <gensim.models.keyedvectors.Vocab at 0x7ff1b9519fd0>,\n",
              " 'activate': <gensim.models.keyedvectors.Vocab at 0x7ff1b951d048>,\n",
              " 'direct': <gensim.models.keyedvectors.Vocab at 0x7ff1b951d080>,\n",
              " 'command': <gensim.models.keyedvectors.Vocab at 0x7ff1b951d0b8>,\n",
              " 'move': <gensim.models.keyedvectors.Vocab at 0x7ff1b951d0f0>,\n",
              " 'without': <gensim.models.keyedvectors.Vocab at 0x7ff1b951d128>,\n",
              " 'depleting': <gensim.models.keyedvectors.Vocab at 0x7ff1b951d160>,\n",
              " 'his': <gensim.models.keyedvectors.Vocab at 0x7ff1b951d198>,\n",
              " 'point': <gensim.models.keyedvectors.Vocab at 0x7ff1b951d1d0>,\n",
              " 'shift': <gensim.models.keyedvectors.Vocab at 0x7ff1b951d208>,\n",
              " 'her': <gensim.models.keyedvectors.Vocab at 0x7ff1b951d240>,\n",
              " 'form': <gensim.models.keyedvectors.Vocab at 0x7ff1b951d278>,\n",
              " 'become': <gensim.models.keyedvectors.Vocab at 0x7ff1b951d2b0>,\n",
              " 'invincible': <gensim.models.keyedvectors.Vocab at 0x7ff1b951d2e8>,\n",
              " 'imca': <gensim.models.keyedvectors.Vocab at 0x7ff1b951d320>,\n",
              " 'target': <gensim.models.keyedvectors.Vocab at 0x7ff1b951d358>,\n",
              " 'heavy': <gensim.models.keyedvectors.Vocab at 0x7ff1b951d390>,\n",
              " 'weapon': <gensim.models.keyedvectors.Vocab at 0x7ff1b951d3c8>,\n",
              " 'troops': <gensim.models.keyedvectors.Vocab at 0x7ff1b951d400>,\n",
              " 'five': <gensim.models.keyedvectors.Vocab at 0x7ff1b951d438>,\n",
              " 'classes': <gensim.models.keyedvectors.Vocab at 0x7ff1b951d470>,\n",
              " 'scouts': <gensim.models.keyedvectors.Vocab at 0x7ff1b951d4a8>,\n",
              " 'engineers': <gensim.models.keyedvectors.Vocab at 0x7ff1b951d4e0>,\n",
              " 'lancers': <gensim.models.keyedvectors.Vocab at 0x7ff1b951d518>,\n",
              " 'armored': <gensim.models.keyedvectors.Vocab at 0x7ff1b951d550>,\n",
              " 'soldier': <gensim.models.keyedvectors.Vocab at 0x7ff1b951d588>,\n",
              " 'troopers': <gensim.models.keyedvectors.Vocab at 0x7ff1b951d5c0>,\n",
              " 'switch': <gensim.models.keyedvectors.Vocab at 0x7ff1b951d5f8>,\n",
              " 'changing': <gensim.models.keyedvectors.Vocab at 0x7ff1b951d630>,\n",
              " 'class': <gensim.models.keyedvectors.Vocab at 0x7ff1b951d668>,\n",
              " 'does': <gensim.models.keyedvectors.Vocab at 0x7ff1b951d6a0>,\n",
              " 'greatly': <gensim.models.keyedvectors.Vocab at 0x7ff1b951d6d8>,\n",
              " 'affect': <gensim.models.keyedvectors.Vocab at 0x7ff1b951d710>,\n",
              " 'stats': <gensim.models.keyedvectors.Vocab at 0x7ff1b951d748>,\n",
              " 'gained': <gensim.models.keyedvectors.Vocab at 0x7ff1b951d780>,\n",
              " 'victory': <gensim.models.keyedvectors.Vocab at 0x7ff1b951d7b8>,\n",
              " 'experience': <gensim.models.keyedvectors.Vocab at 0x7ff1b951d7f0>,\n",
              " 'awarded': <gensim.models.keyedvectors.Vocab at 0x7ff1b951d828>,\n",
              " 'distributed': <gensim.models.keyedvectors.Vocab at 0x7ff1b951d860>,\n",
              " 'attributes': <gensim.models.keyedvectors.Vocab at 0x7ff1b951d898>,\n",
              " 'shared': <gensim.models.keyedvectors.Vocab at 0x7ff1b951d8d0>,\n",
              " 'entire': <gensim.models.keyedvectors.Vocab at 0x7ff1b951d908>,\n",
              " 'feature': <gensim.models.keyedvectors.Vocab at 0x7ff1b951d940>,\n",
              " 'differing': <gensim.models.keyedvectors.Vocab at 0x7ff1b951d978>,\n",
              " 'early': <gensim.models.keyedvectors.Vocab at 0x7ff1b951d9b0>,\n",
              " 'method': <gensim.models.keyedvectors.Vocab at 0x7ff1b951d9e8>,\n",
              " 'distributing': <gensim.models.keyedvectors.Vocab at 0x7ff1b951da20>,\n",
              " 'types': <gensim.models.keyedvectors.Vocab at 0x7ff1b951da58>,\n",
              " 'plot': <gensim.models.keyedvectors.Vocab at 0x7ff1b951da90>,\n",
              " 'takes': <gensim.models.keyedvectors.Vocab at 0x7ff1b951dac8>,\n",
              " 'place': <gensim.models.keyedvectors.Vocab at 0x7ff1b951db00>,\n",
              " 'gallian': <gensim.models.keyedvectors.Vocab at 0x7ff1b951db38>,\n",
              " 'army': <gensim.models.keyedvectors.Vocab at 0x7ff1b951db70>,\n",
              " 'known': <gensim.models.keyedvectors.Vocab at 0x7ff1b951dba8>,\n",
              " 'composed': <gensim.models.keyedvectors.Vocab at 0x7ff1b951dbe0>,\n",
              " 'criminals': <gensim.models.keyedvectors.Vocab at 0x7ff1b951dc18>,\n",
              " 'foreign': <gensim.models.keyedvectors.Vocab at 0x7ff1b951dc50>,\n",
              " 'deserters': <gensim.models.keyedvectors.Vocab at 0x7ff1b951dc88>,\n",
              " 'offenders': <gensim.models.keyedvectors.Vocab at 0x7ff1b951dcc0>,\n",
              " 'whose': <gensim.models.keyedvectors.Vocab at 0x7ff1b951dcf8>,\n",
              " 'names': <gensim.models.keyedvectors.Vocab at 0x7ff1b951dd30>,\n",
              " 'erased': <gensim.models.keyedvectors.Vocab at 0x7ff1b951dd68>,\n",
              " 'records': <gensim.models.keyedvectors.Vocab at 0x7ff1b951dda0>,\n",
              " 'thereon': <gensim.models.keyedvectors.Vocab at 0x7ff1b951ddd8>,\n",
              " 'officially': <gensim.models.keyedvectors.Vocab at 0x7ff1b951de10>,\n",
              " 'numbers': <gensim.models.keyedvectors.Vocab at 0x7ff1b951de48>,\n",
              " 'ordered': <gensim.models.keyedvectors.Vocab at 0x7ff1b951de80>,\n",
              " 'most': <gensim.models.keyedvectors.Vocab at 0x7ff1b951deb8>,\n",
              " 'dangerous': <gensim.models.keyedvectors.Vocab at 0x7ff1b951def0>,\n",
              " 'regular': <gensim.models.keyedvectors.Vocab at 0x7ff1b951df28>,\n",
              " 'militia': <gensim.models.keyedvectors.Vocab at 0x7ff1b951df60>,\n",
              " 'do': <gensim.models.keyedvectors.Vocab at 0x7ff1b951df98>,\n",
              " 'nevertheless': <gensim.models.keyedvectors.Vocab at 0x7ff1b951dfd0>,\n",
              " 'task': <gensim.models.keyedvectors.Vocab at 0x7ff1b9520048>,\n",
              " 'exemplified': <gensim.models.keyedvectors.Vocab at 0x7ff1b9520080>,\n",
              " 'motto': <gensim.models.keyedvectors.Vocab at 0x7ff1b95200b8>,\n",
              " 'meaning': <gensim.models.keyedvectors.Vocab at 0x7ff1b95200f0>,\n",
              " 'ready': <gensim.models.keyedvectors.Vocab at 0x7ff1b9520128>,\n",
              " 'three': <gensim.models.keyedvectors.Vocab at 0x7ff1b9520160>,\n",
              " 'irving': <gensim.models.keyedvectors.Vocab at 0x7ff1b9520198>,\n",
              " 'officer': <gensim.models.keyedvectors.Vocab at 0x7ff1b95201d0>,\n",
              " 'falsely': <gensim.models.keyedvectors.Vocab at 0x7ff1b9520208>,\n",
              " 'accused': <gensim.models.keyedvectors.Vocab at 0x7ff1b9520240>,\n",
              " 'treason': <gensim.models.keyedvectors.Vocab at 0x7ff1b9520278>,\n",
              " 'wishes': <gensim.models.keyedvectors.Vocab at 0x7ff1b95202b0>,\n",
              " 'redeem': <gensim.models.keyedvectors.Vocab at 0x7ff1b95202e8>,\n",
              " 'himself': <gensim.models.keyedvectors.Vocab at 0x7ff1b9520320>,\n",
              " 'ace': <gensim.models.keyedvectors.Vocab at 0x7ff1b9520358>,\n",
              " 'female': <gensim.models.keyedvectors.Vocab at 0x7ff1b9520390>,\n",
              " 'darcsen': <gensim.models.keyedvectors.Vocab at 0x7ff1b95203c8>,\n",
              " 'weapons': <gensim.models.keyedvectors.Vocab at 0x7ff1b9520400>,\n",
              " 'specialist': <gensim.models.keyedvectors.Vocab at 0x7ff1b9520438>,\n",
              " 'seeks': <gensim.models.keyedvectors.Vocab at 0x7ff1b9520470>,\n",
              " 'revenge': <gensim.models.keyedvectors.Vocab at 0x7ff1b95204a8>,\n",
              " 'destroyed': <gensim.models.keyedvectors.Vocab at 0x7ff1b95204e0>,\n",
              " 'home': <gensim.models.keyedvectors.Vocab at 0x7ff1b9520518>,\n",
              " 'riela': <gensim.models.keyedvectors.Vocab at 0x7ff1b9520550>,\n",
              " 'seemingly': <gensim.models.keyedvectors.Vocab at 0x7ff1b9520588>,\n",
              " 'jinxed': <gensim.models.keyedvectors.Vocab at 0x7ff1b95205c0>,\n",
              " 'young': <gensim.models.keyedvectors.Vocab at 0x7ff1b95205f8>,\n",
              " 'woman': <gensim.models.keyedvectors.Vocab at 0x7ff1b9520630>,\n",
              " 'unknowingly': <gensim.models.keyedvectors.Vocab at 0x7ff1b9520668>,\n",
              " 'descendant': <gensim.models.keyedvectors.Vocab at 0x7ff1b95206a0>,\n",
              " 'together': <gensim.models.keyedvectors.Vocab at 0x7ff1b95206d8>,\n",
              " 'fellow': <gensim.models.keyedvectors.Vocab at 0x7ff1b9520710>,\n",
              " 'these': <gensim.models.keyedvectors.Vocab at 0x7ff1b9520748>,\n",
              " 'tasked': <gensim.models.keyedvectors.Vocab at 0x7ff1b9520780>,\n",
              " 'fight': <gensim.models.keyedvectors.Vocab at 0x7ff1b95207b8>,\n",
              " 'mysterious': <gensim.models.keyedvectors.Vocab at 0x7ff1b95207f0>,\n",
              " 'calamity': <gensim.models.keyedvectors.Vocab at 0x7ff1b9520828>,\n",
              " 'consisting': <gensim.models.keyedvectors.Vocab at 0x7ff1b9520860>,\n",
              " 'mostly': <gensim.models.keyedvectors.Vocab at 0x7ff1b9520898>,\n",
              " 'soldiers': <gensim.models.keyedvectors.Vocab at 0x7ff1b95208d0>,\n",
              " 'exist': <gensim.models.keyedvectors.Vocab at 0x7ff1b9520908>,\n",
              " 'upper': <gensim.models.keyedvectors.Vocab at 0x7ff1b9520940>,\n",
              " 'echelons': <gensim.models.keyedvectors.Vocab at 0x7ff1b9520978>,\n",
              " 'exploit': <gensim.models.keyedvectors.Vocab at 0x7ff1b95209b0>,\n",
              " 'concept': <gensim.models.keyedvectors.Vocab at 0x7ff1b95209e8>,\n",
              " 'plausible': <gensim.models.keyedvectors.Vocab at 0x7ff1b9520a20>,\n",
              " 'deniability': <gensim.models.keyedvectors.Vocab at 0x7ff1b9520a58>,\n",
              " 'order': <gensim.models.keyedvectors.Vocab at 0x7ff1b9520a90>,\n",
              " 'send': <gensim.models.keyedvectors.Vocab at 0x7ff1b9520ac8>,\n",
              " 'make': <gensim.models.keyedvectors.Vocab at 0x7ff1b9520b00>,\n",
              " 'lose': <gensim.models.keyedvectors.Vocab at 0x7ff1b9520b38>,\n",
              " 'face': <gensim.models.keyedvectors.Vocab at 0x7ff1b9520b70>,\n",
              " 'times': <gensim.models.keyedvectors.Vocab at 0x7ff1b9520ba8>,\n",
              " 'this': <gensim.models.keyedvectors.Vocab at 0x7ff1b9520be0>,\n",
              " 'works': <gensim.models.keyedvectors.Vocab at 0x7ff1b9520c18>,\n",
              " 'advantage': <gensim.models.keyedvectors.Vocab at 0x7ff1b9520c50>,\n",
              " 'successful': <gensim.models.keyedvectors.Vocab at 0x7ff1b9520c88>,\n",
              " 'incursion': <gensim.models.keyedvectors.Vocab at 0x7ff1b9520cc0>,\n",
              " 'territory': <gensim.models.keyedvectors.Vocab at 0x7ff1b9520cf8>,\n",
              " 'orders': <gensim.models.keyedvectors.Vocab at 0x7ff1b9520d30>,\n",
              " 'cause': <gensim.models.keyedvectors.Vocab at 0x7ff1b9520d68>,\n",
              " 'certain': <gensim.models.keyedvectors.Vocab at 0x7ff1b9520da0>,\n",
              " 'nd': <gensim.models.keyedvectors.Vocab at 0x7ff1b9520dd8>,\n",
              " 'great': <gensim.models.keyedvectors.Vocab at 0x7ff1b9520e10>,\n",
              " 'distress': <gensim.models.keyedvectors.Vocab at 0x7ff1b9520e48>,\n",
              " 'member': <gensim.models.keyedvectors.Vocab at 0x7ff1b9520e80>,\n",
              " 'becomes': <gensim.models.keyedvectors.Vocab at 0x7ff1b9520eb8>,\n",
              " 'so': <gensim.models.keyedvectors.Vocab at 0x7ff1b9520ef0>,\n",
              " 'enraged': <gensim.models.keyedvectors.Vocab at 0x7ff1b9520f28>,\n",
              " 'he': <gensim.models.keyedvectors.Vocab at 0x7ff1b9520f60>,\n",
              " 'abandons': <gensim.models.keyedvectors.Vocab at 0x7ff1b9520f98>,\n",
              " 'post': <gensim.models.keyedvectors.Vocab at 0x7ff1b9520fd0>,\n",
              " 'defects': <gensim.models.keyedvectors.Vocab at 0x7ff1b9524048>,\n",
              " 'ranks': <gensim.models.keyedvectors.Vocab at 0x7ff1b9524080>,\n",
              " 'attached': <gensim.models.keyedvectors.Vocab at 0x7ff1b95240b8>,\n",
              " 'ideal': <gensim.models.keyedvectors.Vocab at 0x7ff1b95240f0>,\n",
              " 'independence': <gensim.models.keyedvectors.Vocab at 0x7ff1b9524128>,\n",
              " 'proposed': <gensim.models.keyedvectors.Vocab at 0x7ff1b9524160>,\n",
              " 'leader': <gensim.models.keyedvectors.Vocab at 0x7ff1b9524198>,\n",
              " 'dahau': <gensim.models.keyedvectors.Vocab at 0x7ff1b95241d0>,\n",
              " 'within': <gensim.models.keyedvectors.Vocab at 0x7ff1b9524208>,\n",
              " 'erase': <gensim.models.keyedvectors.Vocab at 0x7ff1b9524240>,\n",
              " 'protect': <gensim.models.keyedvectors.Vocab at 0x7ff1b9524278>,\n",
              " 'own': <gensim.models.keyedvectors.Vocab at 0x7ff1b95242b0>,\n",
              " 'interests': <gensim.models.keyedvectors.Vocab at 0x7ff1b95242e8>,\n",
              " 'hounded': <gensim.models.keyedvectors.Vocab at 0x7ff1b9524320>,\n",
              " 'allies': <gensim.models.keyedvectors.Vocab at 0x7ff1b9524358>,\n",
              " 'enemies': <gensim.models.keyedvectors.Vocab at 0x7ff1b9524390>,\n",
              " 'combined': <gensim.models.keyedvectors.Vocab at 0x7ff1b95243c8>,\n",
              " 'presence': <gensim.models.keyedvectors.Vocab at 0x7ff1b9524400>,\n",
              " 'traitor': <gensim.models.keyedvectors.Vocab at 0x7ff1b9524438>,\n",
              " 'desperately': <gensim.models.keyedvectors.Vocab at 0x7ff1b9524470>,\n",
              " 'keep': <gensim.models.keyedvectors.Vocab at 0x7ff1b95244a8>,\n",
              " 'themselves': <gensim.models.keyedvectors.Vocab at 0x7ff1b95244e0>,\n",
              " 'alive': <gensim.models.keyedvectors.Vocab at 0x7ff1b9524518>,\n",
              " 'effort': <gensim.models.keyedvectors.Vocab at 0x7ff1b9524550>,\n",
              " 'continues': <gensim.models.keyedvectors.Vocab at 0x7ff1b9524588>,\n",
              " 'until': <gensim.models.keyedvectors.Vocab at 0x7ff1b95245c0>,\n",
              " 'commanding': <gensim.models.keyedvectors.Vocab at 0x7ff1b95245f8>,\n",
              " 'ramsey': <gensim.models.keyedvectors.Vocab at 0x7ff1b9524630>,\n",
              " 'crowe': <gensim.models.keyedvectors.Vocab at 0x7ff1b9524668>,\n",
              " 'had': <gensim.models.keyedvectors.Vocab at 0x7ff1b95246a0>,\n",
              " 'been': <gensim.models.keyedvectors.Vocab at 0x7ff1b95246d8>,\n",
              " 'kept': <gensim.models.keyedvectors.Vocab at 0x7ff1b9524710>,\n",
              " 'under': <gensim.models.keyedvectors.Vocab at 0x7ff1b9524748>,\n",
              " 'house': <gensim.models.keyedvectors.Vocab at 0x7ff1b9524780>,\n",
              " 'arrest': <gensim.models.keyedvectors.Vocab at 0x7ff1b95247b8>,\n",
              " 'escorted': <gensim.models.keyedvectors.Vocab at 0x7ff1b95247f0>,\n",
              " 'capital': <gensim.models.keyedvectors.Vocab at 0x7ff1b9524828>,\n",
              " 'city': <gensim.models.keyedvectors.Vocab at 0x7ff1b9524860>,\n",
              " 'present': <gensim.models.keyedvectors.Vocab at 0x7ff1b9524898>,\n",
              " 'evidence': <gensim.models.keyedvectors.Vocab at 0x7ff1b95248d0>,\n",
              " 'exonerating': <gensim.models.keyedvectors.Vocab at 0x7ff1b9524908>,\n",
              " 'weary': <gensim.models.keyedvectors.Vocab at 0x7ff1b9524940>,\n",
              " 'expose': <gensim.models.keyedvectors.Vocab at 0x7ff1b9524978>,\n",
              " 'general': <gensim.models.keyedvectors.Vocab at 0x7ff1b95249b0>,\n",
              " 'partly': <gensim.models.keyedvectors.Vocab at 0x7ff1b95249e8>,\n",
              " 'events': <gensim.models.keyedvectors.Vocab at 0x7ff1b9524a20>,\n",
              " 'major': <gensim.models.keyedvectors.Vocab at 0x7ff1b9524a58>,\n",
              " 'losses': <gensim.models.keyedvectors.Vocab at 0x7ff1b9524a90>,\n",
              " 'manpower': <gensim.models.keyedvectors.Vocab at 0x7ff1b9524ac8>,\n",
              " 'suffers': <gensim.models.keyedvectors.Vocab at 0x7ff1b9524b00>,\n",
              " 'towards': <gensim.models.keyedvectors.Vocab at 0x7ff1b9524b38>,\n",
              " 'end': <gensim.models.keyedvectors.Vocab at 0x7ff1b9524b70>,\n",
              " 'empire': <gensim.models.keyedvectors.Vocab at 0x7ff1b9524ba8>,\n",
              " 'offered': <gensim.models.keyedvectors.Vocab at 0x7ff1b9524be0>,\n",
              " 'formal': <gensim.models.keyedvectors.Vocab at 0x7ff1b9524c18>,\n",
              " 'position': <gensim.models.keyedvectors.Vocab at 0x7ff1b9524c50>,\n",
              " 'rather': <gensim.models.keyedvectors.Vocab at 0x7ff1b9524c88>,\n",
              " 'serve': <gensim.models.keyedvectors.Vocab at 0x7ff1b9524cc0>,\n",
              " 'anonymous': <gensim.models.keyedvectors.Vocab at 0x7ff1b9524cf8>,\n",
              " 'shadow': <gensim.models.keyedvectors.Vocab at 0x7ff1b9524d30>,\n",
              " 'force': <gensim.models.keyedvectors.Vocab at 0x7ff1b9524d68>,\n",
              " 'short': <gensim.models.keyedvectors.Vocab at 0x7ff1b9524da0>,\n",
              " 'lived': <gensim.models.keyedvectors.Vocab at 0x7ff1b9524dd8>,\n",
              " 'however': <gensim.models.keyedvectors.Vocab at 0x7ff1b9524e10>,\n",
              " 'following': <gensim.models.keyedvectors.Vocab at 0x7ff1b9524e48>,\n",
              " 'maximilian': <gensim.models.keyedvectors.Vocab at 0x7ff1b9524e80>,\n",
              " 'defeat': <gensim.models.keyedvectors.Vocab at 0x7ff1b9524eb8>,\n",
              " 'ancient': <gensim.models.keyedvectors.Vocab at 0x7ff1b9524ef0>,\n",
              " 'super': <gensim.models.keyedvectors.Vocab at 0x7ff1b9524f28>,\n",
              " 'benefactor': <gensim.models.keyedvectors.Vocab at 0x7ff1b9524f60>,\n",
              " 'support': <gensim.models.keyedvectors.Vocab at 0x7ff1b9524f98>,\n",
              " 'chance': <gensim.models.keyedvectors.Vocab at 0x7ff1b9524fd0>,\n",
              " 'prove': <gensim.models.keyedvectors.Vocab at 0x7ff1b9527048>,\n",
              " 'last': <gensim.models.keyedvectors.Vocab at 0x7ff1b9527080>,\n",
              " 'trump': <gensim.models.keyedvectors.Vocab at 0x7ff1b95270b8>,\n",
              " 'card': <gensim.models.keyedvectors.Vocab at 0x7ff1b95270f0>,\n",
              " 'creating': <gensim.models.keyedvectors.Vocab at 0x7ff1b9527128>,\n",
              " 'new': <gensim.models.keyedvectors.Vocab at 0x7ff1b9527160>,\n",
              " 'armed': <gensim.models.keyedvectors.Vocab at 0x7ff1b9527198>,\n",
              " 'invading': <gensim.models.keyedvectors.Vocab at 0x7ff1b95271d0>,\n",
              " 'just': <gensim.models.keyedvectors.Vocab at 0x7ff1b9527208>,\n",
              " 'nations': <gensim.models.keyedvectors.Vocab at 0x7ff1b9527240>,\n",
              " 'cease': <gensim.models.keyedvectors.Vocab at 0x7ff1b9527278>,\n",
              " 'fire': <gensim.models.keyedvectors.Vocab at 0x7ff1b95272b0>,\n",
              " 'certainly': <gensim.models.keyedvectors.Vocab at 0x7ff1b95272e8>,\n",
              " 'wreck': <gensim.models.keyedvectors.Vocab at 0x7ff1b9527320>,\n",
              " 'newfound': <gensim.models.keyedvectors.Vocab at 0x7ff1b9527358>,\n",
              " 'peace': <gensim.models.keyedvectors.Vocab at 0x7ff1b9527390>,\n",
              " 'decides': <gensim.models.keyedvectors.Vocab at 0x7ff1b95273c8>,\n",
              " 'again': <gensim.models.keyedvectors.Vocab at 0x7ff1b9527400>,\n",
              " 'asking': <gensim.models.keyedvectors.Vocab at 0x7ff1b9527438>,\n",
              " 'list': <gensim.models.keyedvectors.Vocab at 0x7ff1b9527470>,\n",
              " 'all': <gensim.models.keyedvectors.Vocab at 0x7ff1b95274a8>,\n",
              " 'killed': <gensim.models.keyedvectors.Vocab at 0x7ff1b95274e0>,\n",
              " 'now': <gensim.models.keyedvectors.Vocab at 0x7ff1b9527518>,\n",
              " 'owing': <gensim.models.keyedvectors.Vocab at 0x7ff1b9527550>,\n",
              " 'allegiance': <gensim.models.keyedvectors.Vocab at 0x7ff1b9527588>,\n",
              " 'none': <gensim.models.keyedvectors.Vocab at 0x7ff1b95275c0>,\n",
              " 'confronts': <gensim.models.keyedvectors.Vocab at 0x7ff1b95275f8>,\n",
              " 'destroys': <gensim.models.keyedvectors.Vocab at 0x7ff1b9527630>,\n",
              " 'then': <gensim.models.keyedvectors.Vocab at 0x7ff1b9527668>,\n",
              " 'goes': <gensim.models.keyedvectors.Vocab at 0x7ff1b95276a0>,\n",
              " 'separate': <gensim.models.keyedvectors.Vocab at 0x7ff1b95276d8>,\n",
              " 'ways': <gensim.models.keyedvectors.Vocab at 0x7ff1b9527710>,\n",
              " 'begin': <gensim.models.keyedvectors.Vocab at 0x7ff1b9527748>,\n",
              " 'lives': <gensim.models.keyedvectors.Vocab at 0x7ff1b9527780>,\n",
              " 'anew': <gensim.models.keyedvectors.Vocab at 0x7ff1b95277b8>,\n",
              " 'finished': <gensim.models.keyedvectors.Vocab at 0x7ff1b95277f0>,\n",
              " 'full': <gensim.models.keyedvectors.Vocab at 0x7ff1b9527828>,\n",
              " 'beginning': <gensim.models.keyedvectors.Vocab at 0x7ff1b9527860>,\n",
              " 'shortly': <gensim.models.keyedvectors.Vocab at 0x7ff1b9527898>,\n",
              " 'took': <gensim.models.keyedvectors.Vocab at 0x7ff1b95278d0>,\n",
              " 'approximately': <gensim.models.keyedvectors.Vocab at 0x7ff1b9527908>,\n",
              " 'staff': <gensim.models.keyedvectors.Vocab at 0x7ff1b9527940>,\n",
              " 'look': <gensim.models.keyedvectors.Vocab at 0x7ff1b9527978>,\n",
              " 'popular': <gensim.models.keyedvectors.Vocab at 0x7ff1b95279b0>,\n",
              " 'response': <gensim.models.keyedvectors.Vocab at 0x7ff1b95279e8>,\n",
              " 'what': <gensim.models.keyedvectors.Vocab at 0x7ff1b9527a20>,\n",
              " 'wanted': <gensim.models.keyedvectors.Vocab at 0x7ff1b9527a58>,\n",
              " 'next': <gensim.models.keyedvectors.Vocab at 0x7ff1b9527a90>,\n",
              " 'predecessor': <gensim.models.keyedvectors.Vocab at 0x7ff1b9527ac8>,\n",
              " 'wanting': <gensim.models.keyedvectors.Vocab at 0x7ff1b9527b00>,\n",
              " 'refine': <gensim.models.keyedvectors.Vocab at 0x7ff1b9527b38>,\n",
              " 'mechanics': <gensim.models.keyedvectors.Vocab at 0x7ff1b9527b70>,\n",
              " 'created': <gensim.models.keyedvectors.Vocab at 0x7ff1b9527ba8>,\n",
              " 'come': <gensim.models.keyedvectors.Vocab at 0x7ff1b9527be0>,\n",
              " 'revolutionary': <gensim.models.keyedvectors.Vocab at 0x7ff1b9527c18>,\n",
              " 'idea': <gensim.models.keyedvectors.Vocab at 0x7ff1b9527c50>,\n",
              " 'warrant': <gensim.models.keyedvectors.Vocab at 0x7ff1b9527c88>,\n",
              " 'entry': <gensim.models.keyedvectors.Vocab at 0x7ff1b9527cc0>,\n",
              " 'interview': <gensim.models.keyedvectors.Vocab at 0x7ff1b9527cf8>,\n",
              " 'stated': <gensim.models.keyedvectors.Vocab at 0x7ff1b9527d30>,\n",
              " 'considered': <gensim.models.keyedvectors.Vocab at 0x7ff1b9527d68>,\n",
              " 'true': <gensim.models.keyedvectors.Vocab at 0x7ff1b9527da0>,\n",
              " 'sequel': <gensim.models.keyedvectors.Vocab at 0x7ff1b9527dd8>,\n",
              " 'required': <gensim.models.keyedvectors.Vocab at 0x7ff1b9527e10>,\n",
              " 'amount': <gensim.models.keyedvectors.Vocab at 0x7ff1b9527e48>,\n",
              " 'trial': <gensim.models.keyedvectors.Vocab at 0x7ff1b9527e80>,\n",
              " 'error': <gensim.models.keyedvectors.Vocab at 0x7ff1b9527eb8>,\n",
              " 'platform': <gensim.models.keyedvectors.Vocab at 0x7ff1b9527ef0>,\n",
              " 'gave': <gensim.models.keyedvectors.Vocab at 0x7ff1b9527f28>,\n",
              " 'improve': <gensim.models.keyedvectors.Vocab at 0x7ff1b9527f60>,\n",
              " 'upon': <gensim.models.keyedvectors.Vocab at 0x7ff1b9527f98>,\n",
              " 'best': <gensim.models.keyedvectors.Vocab at 0x7ff1b9527fd0>,\n",
              " 'parts': <gensim.models.keyedvectors.Vocab at 0x7ff1b952b048>,\n",
              " 'addition': <gensim.models.keyedvectors.Vocab at 0x7ff1b952b080>,\n",
              " 'scenario': <gensim.models.keyedvectors.Vocab at 0x7ff1b952b0b8>,\n",
              " 'written': <gensim.models.keyedvectors.Vocab at 0x7ff1b952b0f0>,\n",
              " 'kazuki': <gensim.models.keyedvectors.Vocab at 0x7ff1b952b128>,\n",
              " 'yamanobe': <gensim.models.keyedvectors.Vocab at 0x7ff1b952b160>,\n",
              " 'hiroyuki': <gensim.models.keyedvectors.Vocab at 0x7ff1b952b198>,\n",
              " 'fujii': <gensim.models.keyedvectors.Vocab at 0x7ff1b952b1d0>,\n",
              " 'koichi': <gensim.models.keyedvectors.Vocab at 0x7ff1b952b208>,\n",
              " 'majima': <gensim.models.keyedvectors.Vocab at 0x7ff1b952b240>,\n",
              " 'miyagi': <gensim.models.keyedvectors.Vocab at 0x7ff1b952b278>,\n",
              " 'seiki': <gensim.models.keyedvectors.Vocab at 0x7ff1b952b2b0>,\n",
              " 'takayuki': <gensim.models.keyedvectors.Vocab at 0x7ff1b952b2e8>,\n",
              " 'darker': <gensim.models.keyedvectors.Vocab at 0x7ff1b952b320>,\n",
              " 'somber': <gensim.models.keyedvectors.Vocab at 0x7ff1b952b358>,\n",
              " 'majority': <gensim.models.keyedvectors.Vocab at 0x7ff1b952b390>,\n",
              " 'material': <gensim.models.keyedvectors.Vocab at 0x7ff1b952b3c8>,\n",
              " 'design': <gensim.models.keyedvectors.Vocab at 0x7ff1b952b400>,\n",
              " 'improvements': <gensim.models.keyedvectors.Vocab at 0x7ff1b952b438>,\n",
              " 'were': <gensim.models.keyedvectors.Vocab at 0x7ff1b952b470>,\n",
              " 'made': <gensim.models.keyedvectors.Vocab at 0x7ff1b952b4a8>,\n",
              " 'graphics': <gensim.models.keyedvectors.Vocab at 0x7ff1b952b4e0>,\n",
              " 'layouts': <gensim.models.keyedvectors.Vocab at 0x7ff1b952b518>,\n",
              " 'structure': <gensim.models.keyedvectors.Vocab at 0x7ff1b952b550>,\n",
              " 'number': <gensim.models.keyedvectors.Vocab at 0x7ff1b952b588>,\n",
              " 'playable': <gensim.models.keyedvectors.Vocab at 0x7ff1b952b5c0>,\n",
              " 'upgrade': <gensim.models.keyedvectors.Vocab at 0x7ff1b952b5f8>,\n",
              " 'involved': <gensim.models.keyedvectors.Vocab at 0x7ff1b952b630>,\n",
              " 'polygon': <gensim.models.keyedvectors.Vocab at 0x7ff1b952b668>,\n",
              " 'models': <gensim.models.keyedvectors.Vocab at 0x7ff1b952b6a0>,\n",
              " 'body': <gensim.models.keyedvectors.Vocab at 0x7ff1b952b6d8>,\n",
              " 'achieve': <gensim.models.keyedvectors.Vocab at 0x7ff1b952b710>,\n",
              " 'cooperative': <gensim.models.keyedvectors.Vocab at 0x7ff1b952b748>,\n",
              " 'incorporated': <gensim.models.keyedvectors.Vocab at 0x7ff1b952b780>,\n",
              " 'removed': <gensim.models.keyedvectors.Vocab at 0x7ff1b952b7b8>,\n",
              " 'memory': <gensim.models.keyedvectors.Vocab at 0x7ff1b952b7f0>,\n",
              " 'space': <gensim.models.keyedvectors.Vocab at 0x7ff1b952b828>,\n",
              " 'needed': <gensim.models.keyedvectors.Vocab at 0x7ff1b952b860>,\n",
              " 'adjusted': <gensim.models.keyedvectors.Vocab at 0x7ff1b952b898>,\n",
              " 'settings': <gensim.models.keyedvectors.Vocab at 0x7ff1b952b8d0>,\n",
              " 'ease': <gensim.models.keyedvectors.Vocab at 0x7ff1b952b908>,\n",
              " 'play': <gensim.models.keyedvectors.Vocab at 0x7ff1b952b940>,\n",
              " 'could': <gensim.models.keyedvectors.Vocab at 0x7ff1b952b978>,\n",
              " 'appeal': <gensim.models.keyedvectors.Vocab at 0x7ff1b952b9b0>,\n",
              " 'retaining': <gensim.models.keyedvectors.Vocab at 0x7ff1b952b9e8>,\n",
              " 'essential': <gensim.models.keyedvectors.Vocab at 0x7ff1b952ba20>,\n",
              " 'components': <gensim.models.keyedvectors.Vocab at 0x7ff1b952ba58>,\n",
              " 'newer': <gensim.models.keyedvectors.Vocab at 0x7ff1b952ba90>,\n",
              " 'systems': <gensim.models.keyedvectors.Vocab at 0x7ff1b952bac8>,\n",
              " 'decided': <gensim.models.keyedvectors.Vocab at 0x7ff1b952bb00>,\n",
              " 'designs': <gensim.models.keyedvectors.Vocab at 0x7ff1b952bb38>,\n",
              " 'worked': <gensim.models.keyedvectors.Vocab at 0x7ff1b952bb70>,\n",
              " 'faced': <gensim.models.keyedvectors.Vocab at 0x7ff1b952bba8>,\n",
              " 'problem': <gensim.models.keyedvectors.Vocab at 0x7ff1b952bbe0>,\n",
              " 'uniforms': <gensim.models.keyedvectors.Vocab at 0x7ff1b952bc18>,\n",
              " 'essentially': <gensim.models.keyedvectors.Vocab at 0x7ff1b952bc50>,\n",
              " 'individuality': <gensim.models.keyedvectors.Vocab at 0x7ff1b952bc88>,\n",
              " 'despite': <gensim.models.keyedvectors.Vocab at 0x7ff1b952bcc0>,\n",
              " 'him': <gensim.models.keyedvectors.Vocab at 0x7ff1b952bcf8>,\n",
              " 'needing': <gensim.models.keyedvectors.Vocab at 0x7ff1b952bd30>,\n",
              " 'create': <gensim.models.keyedvectors.Vocab at 0x7ff1b952bd68>,\n",
              " 'identify': <gensim.models.keyedvectors.Vocab at 0x7ff1b952bda0>,\n",
              " 'maintaining': <gensim.models.keyedvectors.Vocab at 0x7ff1b952bdd8>,\n",
              " 'sense': <gensim.models.keyedvectors.Vocab at 0x7ff1b952be10>,\n",
              " 'reality': <gensim.models.keyedvectors.Vocab at 0x7ff1b952be48>,\n",
              " 'world': <gensim.models.keyedvectors.Vocab at 0x7ff1b952be80>,\n",
              " 'color': <gensim.models.keyedvectors.Vocab at 0x7ff1b952beb8>,\n",
              " 'engine': <gensim.models.keyedvectors.Vocab at 0x7ff1b952bef0>,\n",
              " 'anime': <gensim.models.keyedvectors.Vocab at 0x7ff1b952bf28>,\n",
              " 'produced': <gensim.models.keyedvectors.Vocab at 0x7ff1b952bf60>,\n",
              " 'production': <gensim.models.keyedvectors.Vocab at 0x7ff1b952bf98>,\n",
              " 'i': <gensim.models.keyedvectors.Vocab at 0x7ff1b952bfd0>,\n",
              " 'g': <gensim.models.keyedvectors.Vocab at 0x7ff1b952f048>,\n",
              " 'music': <gensim.models.keyedvectors.Vocab at 0x7ff1b952f080>,\n",
              " 'originally': <gensim.models.keyedvectors.Vocab at 0x7ff1b952f0b8>,\n",
              " 'heard': <gensim.models.keyedvectors.Vocab at 0x7ff1b952f0f0>,\n",
              " 'about': <gensim.models.keyedvectors.Vocab at 0x7ff1b952f128>,\n",
              " 'project': <gensim.models.keyedvectors.Vocab at 0x7ff1b952f160>,\n",
              " 'thought': <gensim.models.keyedvectors.Vocab at 0x7ff1b952f198>,\n",
              " 'light': <gensim.models.keyedvectors.Vocab at 0x7ff1b952f1d0>,\n",
              " 'tone': <gensim.models.keyedvectors.Vocab at 0x7ff1b952f208>,\n",
              " 'similar': <gensim.models.keyedvectors.Vocab at 0x7ff1b952f240>,\n",
              " 'themes': <gensim.models.keyedvectors.Vocab at 0x7ff1b952f278>,\n",
              " 'much': <gensim.models.keyedvectors.Vocab at 0x7ff1b952f2b0>,\n",
              " 'expected': <gensim.models.keyedvectors.Vocab at 0x7ff1b952f2e8>,\n",
              " 'designed': <gensim.models.keyedvectors.Vocab at 0x7ff1b952f320>,\n",
              " 'rejected': <gensim.models.keyedvectors.Vocab at 0x7ff1b952f358>,\n",
              " 'seven': <gensim.models.keyedvectors.Vocab at 0x7ff1b952f390>,\n",
              " 'need': <gensim.models.keyedvectors.Vocab at 0x7ff1b952f3c8>,\n",
              " 'reassess': <gensim.models.keyedvectors.Vocab at 0x7ff1b952f400>,\n",
              " 'initially': <gensim.models.keyedvectors.Vocab at 0x7ff1b952f438>,\n",
              " 'recorded': <gensim.models.keyedvectors.Vocab at 0x7ff1b952f470>,\n",
              " 'orchestra': <gensim.models.keyedvectors.Vocab at 0x7ff1b952f4a8>,\n",
              " 'guitar': <gensim.models.keyedvectors.Vocab at 0x7ff1b952f4e0>,\n",
              " 'bass': <gensim.models.keyedvectors.Vocab at 0x7ff1b952f518>,\n",
              " 'synthesizer': <gensim.models.keyedvectors.Vocab at 0x7ff1b952f550>,\n",
              " 'before': <gensim.models.keyedvectors.Vocab at 0x7ff1b952f588>,\n",
              " 'redoing': <gensim.models.keyedvectors.Vocab at 0x7ff1b952f5c0>,\n",
              " 'segments': <gensim.models.keyedvectors.Vocab at 0x7ff1b952f5f8>,\n",
              " 'piece': <gensim.models.keyedvectors.Vocab at 0x7ff1b952f630>,\n",
              " 'incorporating': <gensim.models.keyedvectors.Vocab at 0x7ff1b952f668>,\n",
              " 'hopeful': <gensim.models.keyedvectors.Vocab at 0x7ff1b952f6a0>,\n",
              " 'tune': <gensim.models.keyedvectors.Vocab at 0x7ff1b952f6d8>,\n",
              " 'played': <gensim.models.keyedvectors.Vocab at 0x7ff1b952f710>,\n",
              " 'ending': <gensim.models.keyedvectors.Vocab at 0x7ff1b952f748>,\n",
              " 'modern': <gensim.models.keyedvectors.Vocab at 0x7ff1b952f780>,\n",
              " 'divorced': <gensim.models.keyedvectors.Vocab at 0x7ff1b952f7b8>,\n",
              " 'fantasy': <gensim.models.keyedvectors.Vocab at 0x7ff1b952f7f0>,\n",
              " 'musical': <gensim.models.keyedvectors.Vocab at 0x7ff1b952f828>,\n",
              " 'instruments': <gensim.models.keyedvectors.Vocab at 0x7ff1b952f860>,\n",
              " 'constructed': <gensim.models.keyedvectors.Vocab at 0x7ff1b952f898>,\n",
              " 'atonality': <gensim.models.keyedvectors.Vocab at 0x7ff1b952f8d0>,\n",
              " 'working': <gensim.models.keyedvectors.Vocab at 0x7ff1b952f908>,\n",
              " 'synthesized': <gensim.models.keyedvectors.Vocab at 0x7ff1b952f940>,\n",
              " 'felt': <gensim.models.keyedvectors.Vocab at 0x7ff1b952f978>,\n",
              " 'incorporate': <gensim.models.keyedvectors.Vocab at 0x7ff1b952f9b0>,\n",
              " 'live': <gensim.models.keyedvectors.Vocab at 0x7ff1b952f9e8>,\n",
              " 'mitsuhiro': <gensim.models.keyedvectors.Vocab at 0x7ff1b952fa20>,\n",
              " 'ohta': <gensim.models.keyedvectors.Vocab at 0x7ff1b952fa58>,\n",
              " 'arranged': <gensim.models.keyedvectors.Vocab at 0x7ff1b952fa90>,\n",
              " 'several': <gensim.models.keyedvectors.Vocab at 0x7ff1b952fac8>,\n",
              " 'later': <gensim.models.keyedvectors.Vocab at 0x7ff1b952fb00>,\n",
              " 'tracks': <gensim.models.keyedvectors.Vocab at 0x7ff1b952fb38>,\n",
              " 'song': <gensim.models.keyedvectors.Vocab at 0x7ff1b952fb70>,\n",
              " 'you': <gensim.models.keyedvectors.Vocab at 0x7ff1b952fba8>,\n",
              " 'wish': <gensim.models.keyedvectors.Vocab at 0x7ff1b952fbe0>,\n",
              " 'kimi': <gensim.models.keyedvectors.Vocab at 0x7ff1b952fc18>,\n",
              " 'ga': <gensim.models.keyedvectors.Vocab at 0x7ff1b952fc50>,\n",
              " 'nara': <gensim.models.keyedvectors.Vocab at 0x7ff1b952fc88>,\n",
              " 'singer': <gensim.models.keyedvectors.Vocab at 0x7ff1b952fcc0>,\n",
              " 'reason': <gensim.models.keyedvectors.Vocab at 0x7ff1b952fcf8>,\n",
              " 'fought': <gensim.models.keyedvectors.Vocab at 0x7ff1b952fd30>,\n",
              " 'particular': <gensim.models.keyedvectors.Vocab at 0x7ff1b952fd68>,\n",
              " 'precious': <gensim.models.keyedvectors.Vocab at 0x7ff1b952fda0>,\n",
              " 'responsibility': <gensim.models.keyedvectors.Vocab at 0x7ff1b952fdd8>,\n",
              " 'duty': <gensim.models.keyedvectors.Vocab at 0x7ff1b952fe10>,\n",
              " 'lyrics': <gensim.models.keyedvectors.Vocab at 0x7ff1b952fe48>,\n",
              " 'seiko': <gensim.models.keyedvectors.Vocab at 0x7ff1b952fe80>,\n",
              " 'fujibayashi': <gensim.models.keyedvectors.Vocab at 0x7ff1b952feb8>,\n",
              " 'singles': <gensim.models.keyedvectors.Vocab at 0x7ff1b952fef0>,\n",
              " 'september': <gensim.models.keyedvectors.Vocab at 0x7ff1b952ff28>,\n",
              " 'teaser': <gensim.models.keyedvectors.Vocab at 0x7ff1b952ff60>,\n",
              " 'website': <gensim.models.keyedvectors.Vocab at 0x7ff1b952ff98>,\n",
              " 'revealed': <gensim.models.keyedvectors.Vocab at 0x7ff1b952ffd0>,\n",
              " 'hinting': <gensim.models.keyedvectors.Vocab at 0x7ff1b9532048>,\n",
              " 'issue': <gensim.models.keyedvectors.Vocab at 0x7ff1b9532080>,\n",
              " 'famitsu': <gensim.models.keyedvectors.Vocab at 0x7ff1b95320b8>,\n",
              " 'listed': <gensim.models.keyedvectors.Vocab at 0x7ff1b95320f0>,\n",
              " 'arriving': <gensim.models.keyedvectors.Vocab at 0x7ff1b9532128>,\n",
              " 'public': <gensim.models.keyedvectors.Vocab at 0x7ff1b9532160>,\n",
              " 'appearance': <gensim.models.keyedvectors.Vocab at 0x7ff1b9532198>,\n",
              " 'tokyo': <gensim.models.keyedvectors.Vocab at 0x7ff1b95321d0>,\n",
              " 'show': <gensim.models.keyedvectors.Vocab at 0x7ff1b9532208>,\n",
              " 'tgs': <gensim.models.keyedvectors.Vocab at 0x7ff1b9532240>,\n",
              " 'demo': <gensim.models.keyedvectors.Vocab at 0x7ff1b9532278>,\n",
              " 'available': <gensim.models.keyedvectors.Vocab at 0x7ff1b95322b0>,\n",
              " 'journalists': <gensim.models.keyedvectors.Vocab at 0x7ff1b95322e8>,\n",
              " 'attendees': <gensim.models.keyedvectors.Vocab at 0x7ff1b9532320>,\n",
              " 'publicity': <gensim.models.keyedvectors.Vocab at 0x7ff1b9532358>,\n",
              " 'details': <gensim.models.keyedvectors.Vocab at 0x7ff1b9532390>,\n",
              " 'scant': <gensim.models.keyedvectors.Vocab at 0x7ff1b95323c8>,\n",
              " 'spoil': <gensim.models.keyedvectors.Vocab at 0x7ff1b9532400>,\n",
              " 'too': <gensim.models.keyedvectors.Vocab at 0x7ff1b9532438>,\n",
              " 'still': <gensim.models.keyedvectors.Vocab at 0x7ff1b9532470>,\n",
              " 'flux': <gensim.models.keyedvectors.Vocab at 0x7ff1b95324a8>,\n",
              " 'reveal': <gensim.models.keyedvectors.Vocab at 0x7ff1b95324e0>,\n",
              " 'promote': <gensim.models.keyedvectors.Vocab at 0x7ff1b9532518>,\n",
              " 'detail': <gensim.models.keyedvectors.Vocab at 0x7ff1b9532550>,\n",
              " 'leading': <gensim.models.keyedvectors.Vocab at 0x7ff1b9532588>,\n",
              " 'episodic': <gensim.models.keyedvectors.Vocab at 0x7ff1b95325c0>,\n",
              " 'flash': <gensim.models.keyedvectors.Vocab at 0x7ff1b95325f8>,\n",
              " 'visual': <gensim.models.keyedvectors.Vocab at 0x7ff1b9532630>,\n",
              " 'novel': <gensim.models.keyedvectors.Vocab at 0x7ff1b9532668>,\n",
              " 'said': <gensim.models.keyedvectors.Vocab at 0x7ff1b95326a0>,\n",
              " 'capacity': <gensim.models.keyedvectors.Vocab at 0x7ff1b95326d8>,\n",
              " 'dlc': <gensim.models.keyedvectors.Vocab at 0x7ff1b9532710>,\n",
              " 'plans': <gensim.models.keyedvectors.Vocab at 0x7ff1b9532748>,\n",
              " 'finalized': <gensim.models.keyedvectors.Vocab at 0x7ff1b9532780>,\n",
              " 'featuring': <gensim.models.keyedvectors.Vocab at 0x7ff1b95327b8>,\n",
              " 'recruitable': <gensim.models.keyedvectors.Vocab at 0x7ff1b95327f0>,\n",
              " 'between': <gensim.models.keyedvectors.Vocab at 0x7ff1b9532828>,\n",
              " 'february': <gensim.models.keyedvectors.Vocab at 0x7ff1b9532860>,\n",
              " 'april': <gensim.models.keyedvectors.Vocab at 0x7ff1b9532898>,\n",
              " 'extra': <gensim.models.keyedvectors.Vocab at 0x7ff1b95328d0>,\n",
              " 'packaged': <gensim.models.keyedvectors.Vocab at 0x7ff1b9532908>,\n",
              " 'sold': <gensim.models.keyedvectors.Vocab at 0x7ff1b9532940>,\n",
              " 'lower': <gensim.models.keyedvectors.Vocab at 0x7ff1b9532978>,\n",
              " 'price': <gensim.models.keyedvectors.Vocab at 0x7ff1b95329b0>,\n",
              " 'chosen': <gensim.models.keyedvectors.Vocab at 0x7ff1b95329e8>,\n",
              " 'pre': <gensim.models.keyedvectors.Vocab at 0x7ff1b9532a20>,\n",
              " 'bonus': <gensim.models.keyedvectors.Vocab at 0x7ff1b9532a58>,\n",
              " 'people': <gensim.models.keyedvectors.Vocab at 0x7ff1b9532a90>,\n",
              " 'owned': <gensim.models.keyedvectors.Vocab at 0x7ff1b9532ac8>,\n",
              " 'transfer': <gensim.models.keyedvectors.Vocab at 0x7ff1b9532b00>,\n",
              " 'save': <gensim.models.keyedvectors.Vocab at 0x7ff1b9532b38>,\n",
              " 'data': <gensim.models.keyedvectors.Vocab at 0x7ff1b9532b70>,\n",
              " 'versions': <gensim.models.keyedvectors.Vocab at 0x7ff1b9532ba8>,\n",
              " 'unlike': <gensim.models.keyedvectors.Vocab at 0x7ff1b9532be0>,\n",
              " 'west': <gensim.models.keyedvectors.Vocab at 0x7ff1b9532c18>,\n",
              " 'according': <gensim.models.keyedvectors.Vocab at 0x7ff1b9532c50>,\n",
              " 'poor': <gensim.models.keyedvectors.Vocab at 0x7ff1b9532c88>,\n",
              " 'unpopularity': <gensim.models.keyedvectors.Vocab at 0x7ff1b9532cc0>,\n",
              " 'psp': <gensim.models.keyedvectors.Vocab at 0x7ff1b9532cf8>,\n",
              " 'unofficial': <gensim.models.keyedvectors.Vocab at 0x7ff1b9532d30>,\n",
              " 'patch': <gensim.models.keyedvectors.Vocab at 0x7ff1b9532d68>,\n",
              " 'copy': <gensim.models.keyedvectors.Vocab at 0x7ff1b9532da0>,\n",
              " 'download': <gensim.models.keyedvectors.Vocab at 0x7ff1b9532dd8>,\n",
              " 'apply': <gensim.models.keyedvectors.Vocab at 0x7ff1b9532e10>,\n",
              " 'translated': <gensim.models.keyedvectors.Vocab at 0x7ff1b9532e48>,\n",
              " 'english': <gensim.models.keyedvectors.Vocab at 0x7ff1b9532e80>,\n",
              " 'reception': <gensim.models.keyedvectors.Vocab at 0x7ff1b9532eb8>,\n",
              " 'day': <gensim.models.keyedvectors.Vocab at 0x7ff1b9532ef0>,\n",
              " 'topped': <gensim.models.keyedvectors.Vocab at 0x7ff1b9532f28>,\n",
              " 'exclusive': <gensim.models.keyedvectors.Vocab at 0x7ff1b9532f60>,\n",
              " 'multi': <gensim.models.keyedvectors.Vocab at 0x7ff1b9532f98>,\n",
              " 'charts': <gensim.models.keyedvectors.Vocab at 0x7ff1b9532fd0>,\n",
              " 'coming': <gensim.models.keyedvectors.Vocab at 0x7ff1b9536048>,\n",
              " 'overall': <gensim.models.keyedvectors.Vocab at 0x7ff1b9536080>,\n",
              " 'wii': <gensim.models.keyedvectors.Vocab at 0x7ff1b95360b8>,\n",
              " 'enjoyed': <gensim.models.keyedvectors.Vocab at 0x7ff1b95360f0>,\n",
              " 'particularly': <gensim.models.keyedvectors.Vocab at 0x7ff1b9536128>,\n",
              " 'pleased': <gensim.models.keyedvectors.Vocab at 0x7ff1b9536160>,\n",
              " 'gaming': <gensim.models.keyedvectors.Vocab at 0x7ff1b9536198>,\n",
              " 'site': <gensim.models.keyedvectors.Vocab at 0x7ff1b95361d0>,\n",
              " 'watch': <gensim.models.keyedvectors.Vocab at 0x7ff1b9536208>,\n",
              " 'impress': <gensim.models.keyedvectors.Vocab at 0x7ff1b9536240>,\n",
              " 'negatively': <gensim.models.keyedvectors.Vocab at 0x7ff1b9536278>,\n",
              " 'noting': <gensim.models.keyedvectors.Vocab at 0x7ff1b95362b0>,\n",
              " 'pacing': <gensim.models.keyedvectors.Vocab at 0x7ff1b95362e8>,\n",
              " 'recycled': <gensim.models.keyedvectors.Vocab at 0x7ff1b9536320>,\n",
              " 'generally': <gensim.models.keyedvectors.Vocab at 0x7ff1b9536358>,\n",
              " 'entertaining': <gensim.models.keyedvectors.Vocab at 0x7ff1b9536390>,\n",
              " 'putting': <gensim.models.keyedvectors.Vocab at 0x7ff1b95363c8>,\n",
              " 'spikes': <gensim.models.keyedvectors.Vocab at 0x7ff1b9536400>,\n",
              " 'gamer': <gensim.models.keyedvectors.Vocab at 0x7ff1b9536438>,\n",
              " 'net': <gensim.models.keyedvectors.Vocab at 0x7ff1b9536470>,\n",
              " 'writer': <gensim.models.keyedvectors.Vocab at 0x7ff1b95364a8>,\n",
              " 'naohiko': <gensim.models.keyedvectors.Vocab at 0x7ff1b95364e0>,\n",
              " 'test': <gensim.models.keyedvectors.Vocab at 0x7ff1b9536518>,\n",
              " 'article': <gensim.models.keyedvectors.Vocab at 0x7ff1b9536550>,\n",
              " 'psn': <gensim.models.keyedvectors.Vocab at 0x7ff1b9536588>,\n",
              " 'provided': <gensim.models.keyedvectors.Vocab at 0x7ff1b95365c0>,\n",
              " 'profound': <gensim.models.keyedvectors.Vocab at 0x7ff1b95365f8>,\n",
              " 'feeling': <gensim.models.keyedvectors.Vocab at 0x7ff1b9536630>,\n",
              " 'closure': <gensim.models.keyedvectors.Vocab at 0x7ff1b9536668>,\n",
              " 'annoying': <gensim.models.keyedvectors.Vocab at 0x7ff1b95366a0>,\n",
              " 'limitations': <gensim.models.keyedvectors.Vocab at 0x7ff1b95366d8>,\n",
              " 'aspects': <gensim.models.keyedvectors.Vocab at 0x7ff1b9536710>,\n",
              " 'positively': <gensim.models.keyedvectors.Vocab at 0x7ff1b9536748>,\n",
              " 'noted': <gensim.models.keyedvectors.Vocab at 0x7ff1b9536780>,\n",
              " 'official': <gensim.models.keyedvectors.Vocab at 0x7ff1b95367b8>,\n",
              " 'magazine': <gensim.models.keyedvectors.Vocab at 0x7ff1b95367f0>,\n",
              " 'uk': <gensim.models.keyedvectors.Vocab at 0x7ff1b9536828>,\n",
              " 'blurring': <gensim.models.keyedvectors.Vocab at 0x7ff1b9536860>,\n",
              " 'moral': <gensim.models.keyedvectors.Vocab at 0x7ff1b9536898>,\n",
              " 'standing': <gensim.models.keyedvectors.Vocab at 0x7ff1b95368d0>,\n",
              " 'art': <gensim.models.keyedvectors.Vocab at 0x7ff1b9536908>,\n",
              " 'style': <gensim.models.keyedvectors.Vocab at 0x7ff1b9536940>,\n",
              " 'latter': <gensim.models.keyedvectors.Vocab at 0x7ff1b9536978>,\n",
              " 'continued': <gensim.models.keyedvectors.Vocab at 0x7ff1b95369b0>,\n",
              " 'quality': <gensim.models.keyedvectors.Vocab at 0x7ff1b95369e8>,\n",
              " 'tweaks': <gensim.models.keyedvectors.Vocab at 0x7ff1b9536a20>,\n",
              " 'balance': <gensim.models.keyedvectors.Vocab at 0x7ff1b9536a58>,\n",
              " 'criticism': <gensim.models.keyedvectors.Vocab at 0x7ff1b9536a90>,\n",
              " 'affected': <gensim.models.keyedvectors.Vocab at 0x7ff1b9536ac8>,\n",
              " 'heath': <gensim.models.keyedvectors.Vocab at 0x7ff1b9536b00>,\n",
              " 'hindman': <gensim.models.keyedvectors.Vocab at 0x7ff1b9536b38>,\n",
              " 'lifestyle': <gensim.models.keyedvectors.Vocab at 0x7ff1b9536b70>,\n",
              " 'non': <gensim.models.keyedvectors.Vocab at 0x7ff1b9536ba8>,\n",
              " 'removal': <gensim.models.keyedvectors.Vocab at 0x7ff1b9536be0>,\n",
              " 'praising': <gensim.models.keyedvectors.Vocab at 0x7ff1b9536c18>,\n",
              " 'returning': <gensim.models.keyedvectors.Vocab at 0x7ff1b9536c50>,\n",
              " 'serious': <gensim.models.keyedvectors.Vocab at 0x7ff1b9536c88>,\n",
              " 'criticized': <gensim.models.keyedvectors.Vocab at 0x7ff1b9536cc0>,\n",
              " 'review': <gensim.models.keyedvectors.Vocab at 0x7ff1b9536cf8>,\n",
              " 'awkward': <gensim.models.keyedvectors.Vocab at 0x7ff1b9536d30>,\n",
              " 'cutscenes': <gensim.models.keyedvectors.Vocab at 0x7ff1b9536d68>,\n",
              " 'seemed': <gensim.models.keyedvectors.Vocab at 0x7ff1b9536da0>,\n",
              " 'include': <gensim.models.keyedvectors.Vocab at 0x7ff1b9536dd8>,\n",
              " 'scene': <gensim.models.keyedvectors.Vocab at 0x7ff1b9536e10>,\n",
              " 'good': <gensim.models.keyedvectors.Vocab at 0x7ff1b9536e48>,\n",
              " 'issues': <gensim.models.keyedvectors.Vocab at 0x7ff1b9536e80>,\n",
              " 'occasional': <gensim.models.keyedvectors.Vocab at 0x7ff1b9536eb8>,\n",
              " 'problems': <gensim.models.keyedvectors.Vocab at 0x7ff1b9536ef0>,\n",
              " 'ai': <gensim.models.keyedvectors.Vocab at 0x7ff1b9536f28>,\n",
              " 'preview': <gensim.models.keyedvectors.Vocab at 0x7ff1b9536f60>,\n",
              " 'ryan': <gensim.models.keyedvectors.Vocab at 0x7ff1b9536f98>,\n",
              " 'geddes': <gensim.models.keyedvectors.Vocab at 0x7ff1b9536fd0>,\n",
              " 'ign': <gensim.models.keyedvectors.Vocab at 0x7ff1b9539048>,\n",
              " 'left': <gensim.models.keyedvectors.Vocab at 0x7ff1b9539080>,\n",
              " 'excited': <gensim.models.keyedvectors.Vocab at 0x7ff1b95390b8>,\n",
              " 'go': <gensim.models.keyedvectors.Vocab at 0x7ff1b95390f0>,\n",
              " 'completing': <gensim.models.keyedvectors.Vocab at 0x7ff1b9539128>,\n",
              " 'enjoying': <gensim.models.keyedvectors.Vocab at 0x7ff1b9539160>,\n",
              " 'improved': <gensim.models.keyedvectors.Vocab at 0x7ff1b9539198>,\n",
              " 'visuals': <gensim.models.keyedvectors.Vocab at 0x7ff1b95391d0>,\n",
              " 'kotaku': <gensim.models.keyedvectors.Vocab at 0x7ff1b9539208>,\n",
              " 'richard': <gensim.models.keyedvectors.Vocab at 0x7ff1b9539240>,\n",
              " 'eisenbeis': <gensim.models.keyedvectors.Vocab at 0x7ff1b9539278>,\n",
              " 'highly': <gensim.models.keyedvectors.Vocab at 0x7ff1b95392b0>,\n",
              " 'citing': <gensim.models.keyedvectors.Vocab at 0x7ff1b95392e8>,\n",
              " 'criticisms': <gensim.models.keyedvectors.Vocab at 0x7ff1b9539320>,\n",
              " 'length': <gensim.models.keyedvectors.Vocab at 0x7ff1b9539358>,\n",
              " 'repetition': <gensim.models.keyedvectors.Vocab at 0x7ff1b9539390>,\n",
              " 'expressing': <gensim.models.keyedvectors.Vocab at 0x7ff1b95393c8>,\n",
              " 'regret': <gensim.models.keyedvectors.Vocab at 0x7ff1b9539400>,\n",
              " 'legacy': <gensim.models.keyedvectors.Vocab at 0x7ff1b9539438>,\n",
              " 'featured': <gensim.models.keyedvectors.Vocab at 0x7ff1b9539470>,\n",
              " 'nintendo': <gensim.models.keyedvectors.Vocab at 0x7ff1b95394a8>,\n",
              " 'ds': <gensim.models.keyedvectors.Vocab at 0x7ff1b95394e0>,\n",
              " 'crossover': <gensim.models.keyedvectors.Vocab at 0x7ff1b9539518>,\n",
              " 'x': <gensim.models.keyedvectors.Vocab at 0x7ff1b9539550>,\n",
              " 'zone': <gensim.models.keyedvectors.Vocab at 0x7ff1b9539588>,\n",
              " 'representing': <gensim.models.keyedvectors.Vocab at 0x7ff1b95395c0>,\n",
              " 'develop': <gensim.models.keyedvectors.Vocab at 0x7ff1b95395f8>,\n",
              " 'forms': <gensim.models.keyedvectors.Vocab at 0x7ff1b9539630>,\n",
              " 'adaptations': <gensim.models.keyedvectors.Vocab at 0x7ff1bb646048>,\n",
              " 'episode': <gensim.models.keyedvectors.Vocab at 0x7ff1bb646518>,\n",
              " 'titled': <gensim.models.keyedvectors.Vocab at 0x7ff1bb646080>,\n",
              " 'taga': <gensim.models.keyedvectors.Vocab at 0x7ff1bb6460b8>,\n",
              " 'tame': <gensim.models.keyedvectors.Vocab at 0x7ff1bb6461d0>,\n",
              " 'wound': <gensim.models.keyedvectors.Vocab at 0x7ff1bb646160>,\n",
              " 'taken': <gensim.models.keyedvectors.Vocab at 0x7ff1bb6467b8>,\n",
              " 'someone': <gensim.models.keyedvectors.Vocab at 0x7ff1bb646390>,\n",
              " 'sake': <gensim.models.keyedvectors.Vocab at 0x7ff1bb646320>,\n",
              " 'network': <gensim.models.keyedvectors.Vocab at 0x7ff1bb6464a8>,\n",
              " 'planned': <gensim.models.keyedvectors.Vocab at 0x7ff1bb646748>,\n",
              " 'availability': <gensim.models.keyedvectors.Vocab at 0x7ff1b9539668>,\n",
              " 'period': <gensim.models.keyedvectors.Vocab at 0x7ff1b95396a0>,\n",
              " 'extended': <gensim.models.keyedvectors.Vocab at 0x7ff1b95396d8>,\n",
              " 'stoppage': <gensim.models.keyedvectors.Vocab at 0x7ff1b9539710>,\n",
              " 'summer': <gensim.models.keyedvectors.Vocab at 0x7ff1b9539748>,\n",
              " 'dvd': <gensim.models.keyedvectors.Vocab at 0x7ff1b9539780>,\n",
              " 'june': <gensim.models.keyedvectors.Vocab at 0x7ff1b95397b8>,\n",
              " 'august': <gensim.models.keyedvectors.Vocab at 0x7ff1b95397f0>,\n",
              " 'blue': <gensim.models.keyedvectors.Vocab at 0x7ff1b9539828>,\n",
              " 'editions': <gensim.models.keyedvectors.Vocab at 0x7ff1b9539860>,\n",
              " 'purchase': <gensim.models.keyedvectors.Vocab at 0x7ff1b9539898>,\n",
              " 'set': <gensim.models.keyedvectors.Vocab at 0x7ff1b95398d0>,\n",
              " 'half': <gensim.models.keyedvectors.Vocab at 0x7ff1b9539908>,\n",
              " 'detailing': <gensim.models.keyedvectors.Vocab at 0x7ff1b9539940>,\n",
              " 'rivals': <gensim.models.keyedvectors.Vocab at 0x7ff1b9539978>,\n",
              " 'announced': <gensim.models.keyedvectors.Vocab at 0x7ff1b95399b0>,\n",
              " 'pictures': <gensim.models.keyedvectors.Vocab at 0x7ff1b95399e8>,\n",
              " 'shinji': <gensim.models.keyedvectors.Vocab at 0x7ff1b9539a20>,\n",
              " 'directed': <gensim.models.keyedvectors.Vocab at 0x7ff1b9539a58>,\n",
              " 'nobuhiro': <gensim.models.keyedvectors.Vocab at 0x7ff1b9539a90>,\n",
              " 'kond': <gensim.models.keyedvectors.Vocab at 0x7ff1b9539ac8>,\n",
              " 'hiroshi': <gensim.models.keyedvectors.Vocab at 0x7ff1b9539b00>,\n",
              " 'title': <gensim.models.keyedvectors.Vocab at 0x7ff1b9539b38>,\n",
              " 'inspired': <gensim.models.keyedvectors.Vocab at 0x7ff1b9539b70>,\n",
              " 'principle': <gensim.models.keyedvectors.Vocab at 0x7ff1b9539ba8>,\n",
              " 'purpose': <gensim.models.keyedvectors.Vocab at 0x7ff1b9539be0>,\n",
              " 'suffer': <gensim.models.keyedvectors.Vocab at 0x7ff1b9539c18>,\n",
              " 'goals': <gensim.models.keyedvectors.Vocab at 0x7ff1b9539c50>,\n",
              " 'others': <gensim.models.keyedvectors.Vocab at 0x7ff1b9539c88>,\n",
              " 'subtitle': <gensim.models.keyedvectors.Vocab at 0x7ff1b9539cc0>,\n",
              " 'road': <gensim.models.keyedvectors.Vocab at 0x7ff1b9539cf8>,\n",
              " 'kubinka': <gensim.models.keyedvectors.Vocab at 0x7ff1b9539d30>,\n",
              " 'referenced': <gensim.models.keyedvectors.Vocab at 0x7ff1b9539d68>,\n",
              " 'tank': <gensim.models.keyedvectors.Vocab at 0x7ff1b9539da0>,\n",
              " 'museum': <gensim.models.keyedvectors.Vocab at 0x7ff1b9539dd8>,\n",
              " 'moscow': <gensim.models.keyedvectors.Vocab at 0x7ff1b9539e10>,\n",
              " 'how': <gensim.models.keyedvectors.Vocab at 0x7ff1b9539e48>,\n",
              " 'regained': <gensim.models.keyedvectors.Vocab at 0x7ff1b9539e80>,\n",
              " 'self': <gensim.models.keyedvectors.Vocab at 0x7ff1b9539eb8>,\n",
              " 'stripped': <gensim.models.keyedvectors.Vocab at 0x7ff1b9539ef0>,\n",
              " 'identities': <gensim.models.keyedvectors.Vocab at 0x7ff1b9539f28>,\n",
              " 'focused': <gensim.models.keyedvectors.Vocab at 0x7ff1b9539f60>,\n",
              " 'consequences': <gensim.models.keyedvectors.Vocab at 0x7ff1b9539f98>,\n",
              " 'realistic': <gensim.models.keyedvectors.Vocab at 0x7ff1b9539fd0>,\n",
              " 'possible': <gensim.models.keyedvectors.Vocab at 0x7ff1b953d048>,\n",
              " 'consequence': <gensim.models.keyedvectors.Vocab at 0x7ff1b953d080>,\n",
              " 'did': <gensim.models.keyedvectors.Vocab at 0x7ff1b953d0b8>,\n",
              " 'extensive': <gensim.models.keyedvectors.Vocab at 0x7ff1b953d0f0>,\n",
              " 'research': <gensim.models.keyedvectors.Vocab at 0x7ff1b953d128>,\n",
              " 'happened': <gensim.models.keyedvectors.Vocab at 0x7ff1b953d160>,\n",
              " 'vehicles': <gensim.models.keyedvectors.Vocab at 0x7ff1b953d198>,\n",
              " 'tanks': <gensim.models.keyedvectors.Vocab at 0x7ff1b953d1d0>,\n",
              " 'overturned': <gensim.models.keyedvectors.Vocab at 0x7ff1b953d208>,\n",
              " 'damaged': <gensim.models.keyedvectors.Vocab at 0x7ff1b953d240>,\n",
              " 'timeline': <gensim.models.keyedvectors.Vocab at 0x7ff1b953d278>,\n",
              " ...}"
            ]
          },
          "metadata": {
            "tags": []
          },
          "execution_count": 39
        }
      ]
    },
    {
      "metadata": {
        "id": "pa7icJRNXqyt",
        "colab_type": "code",
        "colab": {
          "base_uri": "https://localhost:8080/",
          "height": 165
        },
        "outputId": "47b2e368-6419-4470-c647-dbc8d92df0f4"
      },
      "cell_type": "code",
      "source": [
        ""
      ],
      "execution_count": 1,
      "outputs": [
        {
          "output_type": "error",
          "ename": "NameError",
          "evalue": "ignored",
          "traceback": [
            "\u001b[0;31m---------------------------------------------------------------------------\u001b[0m",
            "\u001b[0;31mNameError\u001b[0m                                 Traceback (most recent call last)",
            "\u001b[0;32m<ipython-input-1-288dbdf7cdaa>\u001b[0m in \u001b[0;36m<module>\u001b[0;34m()\u001b[0m\n\u001b[0;32m----> 1\u001b[0;31m \u001b[0msentences\u001b[0m\u001b[0;34m[\u001b[0m\u001b[0;36m1\u001b[0m\u001b[0;34m]\u001b[0m\u001b[0;34m\u001b[0m\u001b[0;34m\u001b[0m\u001b[0m\n\u001b[0m",
            "\u001b[0;31mNameError\u001b[0m: name 'sentences' is not defined"
          ]
        }
      ]
    },
    {
      "metadata": {
        "id": "Yu3bioBkXBcf",
        "colab_type": "code",
        "colab": {}
      },
      "cell_type": "code",
      "source": [
        "from gensim.models import Word2Vec"
      ],
      "execution_count": 0,
      "outputs": []
    },
    {
      "metadata": {
        "id": "ybmHBxWmXSYh",
        "colab_type": "code",
        "colab": {}
      },
      "cell_type": "code",
      "source": [
        "model = Word2Vec(sentences, min_count=1)"
      ],
      "execution_count": 0,
      "outputs": []
    },
    {
      "metadata": {
        "id": "5LknpjWPXV33",
        "colab_type": "code",
        "colab": {}
      },
      "cell_type": "code",
      "source": [
        "words = model.wv.vocab"
      ],
      "execution_count": 0,
      "outputs": []
    },
    {
      "metadata": {
        "id": "HBl4fkOc905e",
        "colab_type": "code",
        "colab": {}
      },
      "cell_type": "code",
      "source": [
        "vector=model.wv['global']"
      ],
      "execution_count": 0,
      "outputs": []
    },
    {
      "metadata": {
        "id": "sPDZYCiY956O",
        "colab_type": "code",
        "colab": {}
      },
      "cell_type": "code",
      "source": [
        "#remove stop words"
      ],
      "execution_count": 0,
      "outputs": []
    },
    {
      "metadata": {
        "id": "m7DTHVno98vW",
        "colab_type": "code",
        "colab": {
          "base_uri": "https://localhost:8080/",
          "height": 71
        },
        "outputId": "7782bb3a-c7e6-40bd-99e4-de2d134888bb"
      },
      "cell_type": "code",
      "source": [
        "similar = model.wv.most_similar('global')"
      ],
      "execution_count": 43,
      "outputs": [
        {
          "output_type": "stream",
          "text": [
            "/usr/local/lib/python3.6/dist-packages/gensim/matutils.py:737: FutureWarning: Conversion of the second argument of issubdtype from `int` to `np.signedinteger` is deprecated. In future, it will be treated as `np.int64 == np.dtype(int).type`.\n",
            "  if np.issubdtype(vec.dtype, np.int):\n"
          ],
          "name": "stderr"
        }
      ]
    },
    {
      "metadata": {
        "id": "60hp9YiyBHao",
        "colab_type": "code",
        "colab": {
          "base_uri": "https://localhost:8080/",
          "height": 187
        },
        "outputId": "a8c59af3-858e-40ba-ef94-731490d54349"
      },
      "cell_type": "code",
      "source": [
        "similar\n"
      ],
      "execution_count": 44,
      "outputs": [
        {
          "output_type": "execute_result",
          "data": {
            "text/plain": [
              "[('earl', 0.44806504249572754),\n",
              " ('redshanks', 0.41169124841690063),\n",
              " ('sawfish', 0.4112607538700104),\n",
              " ('throats', 0.40485912561416626),\n",
              " ('upmanship', 0.3979750871658325),\n",
              " ('orley', 0.397551953792572),\n",
              " ('polecat', 0.3934825360774994),\n",
              " ('guzla', 0.3916468024253845),\n",
              " ('fluffed', 0.3910376727581024),\n",
              " ('depreciates', 0.3894854784011841)]"
            ]
          },
          "metadata": {
            "tags": []
          },
          "execution_count": 44
        }
      ]
    },
    {
      "metadata": {
        "id": "hLWYOuY1BQiF",
        "colab_type": "code",
        "colab": {}
      },
      "cell_type": "code",
      "source": [
        ""
      ],
      "execution_count": 0,
      "outputs": []
    }
  ]
}